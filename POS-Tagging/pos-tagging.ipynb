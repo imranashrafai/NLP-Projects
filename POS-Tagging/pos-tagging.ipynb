{
 "cells": [
  {
   "cell_type": "markdown",
   "id": "bf59ca05",
   "metadata": {
    "papermill": {
     "duration": 0.004839,
     "end_time": "2025-04-20T09:11:55.925836",
     "exception": false,
     "start_time": "2025-04-20T09:11:55.920997",
     "status": "completed"
    },
    "tags": []
   },
   "source": [
    "# **Installing Spacy**"
   ]
  },
  {
   "cell_type": "code",
   "execution_count": 1,
   "id": "3df3bb19",
   "metadata": {
    "_cell_guid": "b1076dfc-b9ad-4769-8c92-a6c4dae69d19",
    "_uuid": "8f2839f25d086af736a60e9eeb907d3b93b6e0e5",
    "execution": {
     "iopub.execute_input": "2025-04-20T09:11:55.934874Z",
     "iopub.status.busy": "2025-04-20T09:11:55.934575Z",
     "iopub.status.idle": "2025-04-20T09:12:01.208691Z",
     "shell.execute_reply": "2025-04-20T09:12:01.207414Z"
    },
    "papermill": {
     "duration": 5.281022,
     "end_time": "2025-04-20T09:12:01.210799",
     "exception": false,
     "start_time": "2025-04-20T09:11:55.929777",
     "status": "completed"
    },
    "tags": []
   },
   "outputs": [
    {
     "name": "stdout",
     "output_type": "stream",
     "text": [
      "Requirement already satisfied: spacy in /usr/local/lib/python3.11/dist-packages (3.7.5)\r\n",
      "Requirement already satisfied: spacy-legacy<3.1.0,>=3.0.11 in /usr/local/lib/python3.11/dist-packages (from spacy) (3.0.12)\r\n",
      "Requirement already satisfied: spacy-loggers<2.0.0,>=1.0.0 in /usr/local/lib/python3.11/dist-packages (from spacy) (1.0.5)\r\n",
      "Requirement already satisfied: murmurhash<1.1.0,>=0.28.0 in /usr/local/lib/python3.11/dist-packages (from spacy) (1.0.12)\r\n",
      "Requirement already satisfied: cymem<2.1.0,>=2.0.2 in /usr/local/lib/python3.11/dist-packages (from spacy) (2.0.11)\r\n",
      "Requirement already satisfied: preshed<3.1.0,>=3.0.2 in /usr/local/lib/python3.11/dist-packages (from spacy) (3.0.9)\r\n",
      "Requirement already satisfied: thinc<8.3.0,>=8.2.2 in /usr/local/lib/python3.11/dist-packages (from spacy) (8.2.5)\r\n",
      "Requirement already satisfied: wasabi<1.2.0,>=0.9.1 in /usr/local/lib/python3.11/dist-packages (from spacy) (1.1.3)\r\n",
      "Requirement already satisfied: srsly<3.0.0,>=2.4.3 in /usr/local/lib/python3.11/dist-packages (from spacy) (2.5.1)\r\n",
      "Requirement already satisfied: catalogue<2.1.0,>=2.0.6 in /usr/local/lib/python3.11/dist-packages (from spacy) (2.0.10)\r\n",
      "Requirement already satisfied: weasel<0.5.0,>=0.1.0 in /usr/local/lib/python3.11/dist-packages (from spacy) (0.4.1)\r\n",
      "Requirement already satisfied: typer<1.0.0,>=0.3.0 in /usr/local/lib/python3.11/dist-packages (from spacy) (0.15.1)\r\n",
      "Requirement already satisfied: tqdm<5.0.0,>=4.38.0 in /usr/local/lib/python3.11/dist-packages (from spacy) (4.67.1)\r\n",
      "Requirement already satisfied: requests<3.0.0,>=2.13.0 in /usr/local/lib/python3.11/dist-packages (from spacy) (2.32.3)\r\n",
      "Requirement already satisfied: pydantic!=1.8,!=1.8.1,<3.0.0,>=1.7.4 in /usr/local/lib/python3.11/dist-packages (from spacy) (2.11.3)\r\n",
      "Requirement already satisfied: jinja2 in /usr/local/lib/python3.11/dist-packages (from spacy) (3.1.6)\r\n",
      "Requirement already satisfied: setuptools in /usr/local/lib/python3.11/dist-packages (from spacy) (75.1.0)\r\n",
      "Requirement already satisfied: packaging>=20.0 in /usr/local/lib/python3.11/dist-packages (from spacy) (24.2)\r\n",
      "Requirement already satisfied: langcodes<4.0.0,>=3.2.0 in /usr/local/lib/python3.11/dist-packages (from spacy) (3.5.0)\r\n",
      "Requirement already satisfied: numpy>=1.19.0 in /usr/local/lib/python3.11/dist-packages (from spacy) (1.26.4)\r\n",
      "Requirement already satisfied: language-data>=1.2 in /usr/local/lib/python3.11/dist-packages (from langcodes<4.0.0,>=3.2.0->spacy) (1.3.0)\r\n",
      "Requirement already satisfied: mkl_fft in /usr/local/lib/python3.11/dist-packages (from numpy>=1.19.0->spacy) (1.3.8)\r\n",
      "Requirement already satisfied: mkl_random in /usr/local/lib/python3.11/dist-packages (from numpy>=1.19.0->spacy) (1.2.4)\r\n",
      "Requirement already satisfied: mkl_umath in /usr/local/lib/python3.11/dist-packages (from numpy>=1.19.0->spacy) (0.1.1)\r\n",
      "Requirement already satisfied: mkl in /usr/local/lib/python3.11/dist-packages (from numpy>=1.19.0->spacy) (2025.1.0)\r\n",
      "Requirement already satisfied: tbb4py in /usr/local/lib/python3.11/dist-packages (from numpy>=1.19.0->spacy) (2022.1.0)\r\n",
      "Requirement already satisfied: mkl-service in /usr/local/lib/python3.11/dist-packages (from numpy>=1.19.0->spacy) (2.4.1)\r\n",
      "Requirement already satisfied: annotated-types>=0.6.0 in /usr/local/lib/python3.11/dist-packages (from pydantic!=1.8,!=1.8.1,<3.0.0,>=1.7.4->spacy) (0.7.0)\r\n",
      "Requirement already satisfied: pydantic-core==2.33.1 in /usr/local/lib/python3.11/dist-packages (from pydantic!=1.8,!=1.8.1,<3.0.0,>=1.7.4->spacy) (2.33.1)\r\n",
      "Requirement already satisfied: typing-extensions>=4.12.2 in /usr/local/lib/python3.11/dist-packages (from pydantic!=1.8,!=1.8.1,<3.0.0,>=1.7.4->spacy) (4.13.1)\r\n",
      "Requirement already satisfied: typing-inspection>=0.4.0 in /usr/local/lib/python3.11/dist-packages (from pydantic!=1.8,!=1.8.1,<3.0.0,>=1.7.4->spacy) (0.4.0)\r\n",
      "Requirement already satisfied: charset-normalizer<4,>=2 in /usr/local/lib/python3.11/dist-packages (from requests<3.0.0,>=2.13.0->spacy) (3.4.1)\r\n",
      "Requirement already satisfied: idna<4,>=2.5 in /usr/local/lib/python3.11/dist-packages (from requests<3.0.0,>=2.13.0->spacy) (3.10)\r\n",
      "Requirement already satisfied: urllib3<3,>=1.21.1 in /usr/local/lib/python3.11/dist-packages (from requests<3.0.0,>=2.13.0->spacy) (2.3.0)\r\n",
      "Requirement already satisfied: certifi>=2017.4.17 in /usr/local/lib/python3.11/dist-packages (from requests<3.0.0,>=2.13.0->spacy) (2025.1.31)\r\n",
      "Requirement already satisfied: blis<0.8.0,>=0.7.8 in /usr/local/lib/python3.11/dist-packages (from thinc<8.3.0,>=8.2.2->spacy) (0.7.11)\r\n",
      "Requirement already satisfied: confection<1.0.0,>=0.0.1 in /usr/local/lib/python3.11/dist-packages (from thinc<8.3.0,>=8.2.2->spacy) (0.1.5)\r\n",
      "Requirement already satisfied: click>=8.0.0 in /usr/local/lib/python3.11/dist-packages (from typer<1.0.0,>=0.3.0->spacy) (8.1.8)\r\n",
      "Requirement already satisfied: shellingham>=1.3.0 in /usr/local/lib/python3.11/dist-packages (from typer<1.0.0,>=0.3.0->spacy) (1.5.4)\r\n",
      "Requirement already satisfied: rich>=10.11.0 in /usr/local/lib/python3.11/dist-packages (from typer<1.0.0,>=0.3.0->spacy) (14.0.0)\r\n",
      "Requirement already satisfied: cloudpathlib<1.0.0,>=0.7.0 in /usr/local/lib/python3.11/dist-packages (from weasel<0.5.0,>=0.1.0->spacy) (0.20.0)\r\n",
      "Requirement already satisfied: smart-open<8.0.0,>=5.2.1 in /usr/local/lib/python3.11/dist-packages (from weasel<0.5.0,>=0.1.0->spacy) (7.1.0)\r\n",
      "Requirement already satisfied: MarkupSafe>=2.0 in /usr/local/lib/python3.11/dist-packages (from jinja2->spacy) (3.0.2)\r\n",
      "Requirement already satisfied: marisa-trie>=1.1.0 in /usr/local/lib/python3.11/dist-packages (from language-data>=1.2->langcodes<4.0.0,>=3.2.0->spacy) (1.2.1)\r\n",
      "Requirement already satisfied: markdown-it-py>=2.2.0 in /usr/local/lib/python3.11/dist-packages (from rich>=10.11.0->typer<1.0.0,>=0.3.0->spacy) (3.0.0)\r\n",
      "Requirement already satisfied: pygments<3.0.0,>=2.13.0 in /usr/local/lib/python3.11/dist-packages (from rich>=10.11.0->typer<1.0.0,>=0.3.0->spacy) (2.19.1)\r\n",
      "Requirement already satisfied: wrapt in /usr/local/lib/python3.11/dist-packages (from smart-open<8.0.0,>=5.2.1->weasel<0.5.0,>=0.1.0->spacy) (1.17.2)\r\n",
      "Requirement already satisfied: intel-openmp<2026,>=2024 in /usr/local/lib/python3.11/dist-packages (from mkl->numpy>=1.19.0->spacy) (2024.2.0)\r\n",
      "Requirement already satisfied: tbb==2022.* in /usr/local/lib/python3.11/dist-packages (from mkl->numpy>=1.19.0->spacy) (2022.1.0)\r\n",
      "Requirement already satisfied: tcmlib==1.* in /usr/local/lib/python3.11/dist-packages (from tbb==2022.*->mkl->numpy>=1.19.0->spacy) (1.2.0)\r\n",
      "Requirement already satisfied: intel-cmplr-lib-rt in /usr/local/lib/python3.11/dist-packages (from mkl_umath->numpy>=1.19.0->spacy) (2024.2.0)\r\n",
      "Requirement already satisfied: intel-cmplr-lib-ur==2024.2.0 in /usr/local/lib/python3.11/dist-packages (from intel-openmp<2026,>=2024->mkl->numpy>=1.19.0->spacy) (2024.2.0)\r\n",
      "Requirement already satisfied: mdurl~=0.1 in /usr/local/lib/python3.11/dist-packages (from markdown-it-py>=2.2.0->rich>=10.11.0->typer<1.0.0,>=0.3.0->spacy) (0.1.2)\r\n"
     ]
    }
   ],
   "source": [
    "!pip install spacy"
   ]
  },
  {
   "cell_type": "markdown",
   "id": "7442c089",
   "metadata": {
    "papermill": {
     "duration": 0.003872,
     "end_time": "2025-04-20T09:12:01.219123",
     "exception": false,
     "start_time": "2025-04-20T09:12:01.215251",
     "status": "completed"
    },
    "tags": []
   },
   "source": [
    "# **Importing Dependencies**"
   ]
  },
  {
   "cell_type": "code",
   "execution_count": 2,
   "id": "164999d5",
   "metadata": {
    "execution": {
     "iopub.execute_input": "2025-04-20T09:12:01.228872Z",
     "iopub.status.busy": "2025-04-20T09:12:01.228551Z",
     "iopub.status.idle": "2025-04-20T09:12:11.322079Z",
     "shell.execute_reply": "2025-04-20T09:12:11.321166Z"
    },
    "papermill": {
     "duration": 10.100607,
     "end_time": "2025-04-20T09:12:11.323848",
     "exception": false,
     "start_time": "2025-04-20T09:12:01.223241",
     "status": "completed"
    },
    "tags": []
   },
   "outputs": [],
   "source": [
    "import spacy\n",
    "import re"
   ]
  },
  {
   "cell_type": "code",
   "execution_count": 3,
   "id": "fd6fa40b",
   "metadata": {
    "execution": {
     "iopub.execute_input": "2025-04-20T09:12:11.333737Z",
     "iopub.status.busy": "2025-04-20T09:12:11.333158Z",
     "iopub.status.idle": "2025-04-20T09:12:12.232212Z",
     "shell.execute_reply": "2025-04-20T09:12:12.231365Z"
    },
    "papermill": {
     "duration": 0.905883,
     "end_time": "2025-04-20T09:12:12.234017",
     "exception": false,
     "start_time": "2025-04-20T09:12:11.328134",
     "status": "completed"
    },
    "tags": []
   },
   "outputs": [],
   "source": [
    "nlp=spacy.load('en_core_web_sm')"
   ]
  },
  {
   "cell_type": "markdown",
   "id": "5e183033",
   "metadata": {
    "papermill": {
     "duration": 0.004112,
     "end_time": "2025-04-20T09:12:12.243532",
     "exception": false,
     "start_time": "2025-04-20T09:12:12.239420",
     "status": "completed"
    },
    "tags": []
   },
   "source": [
    "# **Removing \\n & lower casing Corpus**"
   ]
  },
  {
   "cell_type": "code",
   "execution_count": 4,
   "id": "0ebeb22f",
   "metadata": {
    "execution": {
     "iopub.execute_input": "2025-04-20T09:12:12.253451Z",
     "iopub.status.busy": "2025-04-20T09:12:12.252958Z",
     "iopub.status.idle": "2025-04-20T09:12:12.258795Z",
     "shell.execute_reply": "2025-04-20T09:12:12.257908Z"
    },
    "papermill": {
     "duration": 0.012701,
     "end_time": "2025-04-20T09:12:12.260374",
     "exception": false,
     "start_time": "2025-04-20T09:12:12.247673",
     "status": "completed"
    },
    "tags": []
   },
   "outputs": [],
   "source": [
    "def preprocessing_corpus(text):\n",
    "    preprocessed =re.sub(r'\\n', '', text)\n",
    "    return preprocessed.lower()\n",
    "    "
   ]
  },
  {
   "cell_type": "code",
   "execution_count": 5,
   "id": "d1ade334",
   "metadata": {
    "execution": {
     "iopub.execute_input": "2025-04-20T09:12:12.270333Z",
     "iopub.status.busy": "2025-04-20T09:12:12.269961Z",
     "iopub.status.idle": "2025-04-20T09:12:12.345990Z",
     "shell.execute_reply": "2025-04-20T09:12:12.344717Z"
    },
    "papermill": {
     "duration": 0.083208,
     "end_time": "2025-04-20T09:12:12.347908",
     "exception": false,
     "start_time": "2025-04-20T09:12:12.264700",
     "status": "completed"
    },
    "tags": []
   },
   "outputs": [],
   "source": [
    "myLinkedInProfileAbout = \"\"\"Imran Ashraf is a Laravel Developer with expertise in web application development, RESTful APIs, and scalable backend solutions. My passion extends beyond \n",
    "web development into Artificial Intelligence (AI), Machine Learning (ML), and Natural Language Processing (NLP), where I specialize in building intelligent systems and deep \n",
    "learning models that solve real-world problems.  With hands-on experience in Deep Learning research, I have worked on AI-driven applications, model optimization, and \n",
    "data-driven solutions. My focus areas include computer vision, NLP, and predictive analytics, bridging the gap between AI and software engineering. Currently pursuing a \n",
    "Bachelor’s in Software Engineering at the University of Lahore, I am dedicated to continuous learning, innovation, and contributing to cutting-edge AI and web development \n",
    "projects. Let’s connect! I’m open to collaborations, internships, and research opportunities in Laravel development, AI, ML, and deep learning.\"\"\"\n",
    "\n",
    "refined= preprocessing_corpus(myLinkedInProfileAbout)\n",
    "\n",
    "doc = nlp(refined)"
   ]
  },
  {
   "cell_type": "markdown",
   "id": "004a2675",
   "metadata": {
    "papermill": {
     "duration": 0.004354,
     "end_time": "2025-04-20T09:12:12.357057",
     "exception": false,
     "start_time": "2025-04-20T09:12:12.352703",
     "status": "completed"
    },
    "tags": []
   },
   "source": [
    "# **Displaying Preprocessed Corpus**"
   ]
  },
  {
   "cell_type": "code",
   "execution_count": 6,
   "id": "2ac60bd9",
   "metadata": {
    "execution": {
     "iopub.execute_input": "2025-04-20T09:12:12.367162Z",
     "iopub.status.busy": "2025-04-20T09:12:12.366837Z",
     "iopub.status.idle": "2025-04-20T09:12:12.374480Z",
     "shell.execute_reply": "2025-04-20T09:12:12.373403Z"
    },
    "papermill": {
     "duration": 0.014434,
     "end_time": "2025-04-20T09:12:12.376084",
     "exception": false,
     "start_time": "2025-04-20T09:12:12.361650",
     "status": "completed"
    },
    "tags": []
   },
   "outputs": [
    {
     "data": {
      "text/plain": [
       "'imran ashraf is a laravel developer with expertise in web application development, restful apis, and scalable backend solutions. my passion extends beyond web development into artificial intelligence (ai), machine learning (ml), and natural language processing (nlp), where i specialize in building intelligent systems and deep learning models that solve real-world problems.  with hands-on experience in deep learning research, i have worked on ai-driven applications, model optimization, and data-driven solutions. my focus areas include computer vision, nlp, and predictive analytics, bridging the gap between ai and software engineering. currently pursuing a bachelor’s in software engineering at the university of lahore, i am dedicated to continuous learning, innovation, and contributing to cutting-edge ai and web development projects. let’s connect! i’m open to collaborations, internships, and research opportunities in laravel development, ai, ml, and deep learning.'"
      ]
     },
     "execution_count": 6,
     "metadata": {},
     "output_type": "execute_result"
    }
   ],
   "source": [
    "doc.text"
   ]
  },
  {
   "cell_type": "code",
   "execution_count": 7,
   "id": "45ee7d65",
   "metadata": {
    "execution": {
     "iopub.execute_input": "2025-04-20T09:12:12.386548Z",
     "iopub.status.busy": "2025-04-20T09:12:12.386090Z",
     "iopub.status.idle": "2025-04-20T09:12:12.392672Z",
     "shell.execute_reply": "2025-04-20T09:12:12.391709Z"
    },
    "papermill": {
     "duration": 0.014154,
     "end_time": "2025-04-20T09:12:12.394976",
     "exception": false,
     "start_time": "2025-04-20T09:12:12.380822",
     "status": "completed"
    },
    "tags": []
   },
   "outputs": [
    {
     "data": {
      "text/plain": [
       "imran"
      ]
     },
     "execution_count": 7,
     "metadata": {},
     "output_type": "execute_result"
    }
   ],
   "source": [
    "doc[0]"
   ]
  },
  {
   "cell_type": "markdown",
   "id": "4300840a",
   "metadata": {
    "papermill": {
     "duration": 0.004082,
     "end_time": "2025-04-20T09:12:12.403634",
     "exception": false,
     "start_time": "2025-04-20T09:12:12.399552",
     "status": "completed"
    },
    "tags": []
   },
   "source": [
    "# **Coarse-grained Tagging**"
   ]
  },
  {
   "cell_type": "code",
   "execution_count": 8,
   "id": "fc17960c",
   "metadata": {
    "execution": {
     "iopub.execute_input": "2025-04-20T09:12:12.413738Z",
     "iopub.status.busy": "2025-04-20T09:12:12.413385Z",
     "iopub.status.idle": "2025-04-20T09:12:12.419939Z",
     "shell.execute_reply": "2025-04-20T09:12:12.418845Z"
    },
    "papermill": {
     "duration": 0.013903,
     "end_time": "2025-04-20T09:12:12.421819",
     "exception": false,
     "start_time": "2025-04-20T09:12:12.407916",
     "status": "completed"
    },
    "tags": []
   },
   "outputs": [
    {
     "data": {
      "text/plain": [
       "'PROPN'"
      ]
     },
     "execution_count": 8,
     "metadata": {},
     "output_type": "execute_result"
    }
   ],
   "source": [
    "doc[0].pos_"
   ]
  },
  {
   "cell_type": "markdown",
   "id": "b407c011",
   "metadata": {
    "papermill": {
     "duration": 0.004328,
     "end_time": "2025-04-20T09:12:12.430727",
     "exception": false,
     "start_time": "2025-04-20T09:12:12.426399",
     "status": "completed"
    },
    "tags": []
   },
   "source": [
    "# **Fine-grained Tagging**"
   ]
  },
  {
   "cell_type": "code",
   "execution_count": 9,
   "id": "e5ab4eee",
   "metadata": {
    "execution": {
     "iopub.execute_input": "2025-04-20T09:12:12.440929Z",
     "iopub.status.busy": "2025-04-20T09:12:12.440590Z",
     "iopub.status.idle": "2025-04-20T09:12:12.447094Z",
     "shell.execute_reply": "2025-04-20T09:12:12.445901Z"
    },
    "papermill": {
     "duration": 0.013632,
     "end_time": "2025-04-20T09:12:12.448684",
     "exception": false,
     "start_time": "2025-04-20T09:12:12.435052",
     "status": "completed"
    },
    "tags": []
   },
   "outputs": [
    {
     "data": {
      "text/plain": [
       "'NNP'"
      ]
     },
     "execution_count": 9,
     "metadata": {},
     "output_type": "execute_result"
    }
   ],
   "source": [
    "doc[0].tag_"
   ]
  },
  {
   "cell_type": "markdown",
   "id": "9fffb2f8",
   "metadata": {
    "papermill": {
     "duration": 0.004218,
     "end_time": "2025-04-20T09:12:12.457899",
     "exception": false,
     "start_time": "2025-04-20T09:12:12.453681",
     "status": "completed"
    },
    "tags": []
   },
   "source": [
    "# **Additional Details**"
   ]
  },
  {
   "cell_type": "code",
   "execution_count": 10,
   "id": "050080ad",
   "metadata": {
    "execution": {
     "iopub.execute_input": "2025-04-20T09:12:12.469024Z",
     "iopub.status.busy": "2025-04-20T09:12:12.468676Z",
     "iopub.status.idle": "2025-04-20T09:12:12.474571Z",
     "shell.execute_reply": "2025-04-20T09:12:12.473623Z"
    },
    "papermill": {
     "duration": 0.013846,
     "end_time": "2025-04-20T09:12:12.476738",
     "exception": false,
     "start_time": "2025-04-20T09:12:12.462892",
     "status": "completed"
    },
    "tags": []
   },
   "outputs": [
    {
     "data": {
      "text/plain": [
       "'noun, proper singular'"
      ]
     },
     "execution_count": 10,
     "metadata": {},
     "output_type": "execute_result"
    }
   ],
   "source": [
    "spacy.explain('NNP')"
   ]
  },
  {
   "cell_type": "markdown",
   "id": "05b99c07",
   "metadata": {
    "papermill": {
     "duration": 0.004811,
     "end_time": "2025-04-20T09:12:12.486705",
     "exception": false,
     "start_time": "2025-04-20T09:12:12.481894",
     "status": "completed"
    },
    "tags": []
   },
   "source": [
    "# **Choosing 20 Tokens of Corpus**"
   ]
  },
  {
   "cell_type": "code",
   "execution_count": 11,
   "id": "8678d624",
   "metadata": {
    "execution": {
     "iopub.execute_input": "2025-04-20T09:12:12.498202Z",
     "iopub.status.busy": "2025-04-20T09:12:12.497885Z",
     "iopub.status.idle": "2025-04-20T09:12:12.504225Z",
     "shell.execute_reply": "2025-04-20T09:12:12.502916Z"
    },
    "papermill": {
     "duration": 0.014695,
     "end_time": "2025-04-20T09:12:12.506126",
     "exception": false,
     "start_time": "2025-04-20T09:12:12.491431",
     "status": "completed"
    },
    "tags": []
   },
   "outputs": [
    {
     "name": "stdout",
     "output_type": "stream",
     "text": [
      "imran ashraf is a laravel developer with expertise in web application development, restful apis, and scalable backend solutions\n"
     ]
    }
   ],
   "source": [
    "corpus=doc[:20]\n",
    "print(corpus)"
   ]
  },
  {
   "cell_type": "markdown",
   "id": "46092bfb",
   "metadata": {
    "papermill": {
     "duration": 0.004277,
     "end_time": "2025-04-20T09:12:12.515207",
     "exception": false,
     "start_time": "2025-04-20T09:12:12.510930",
     "status": "completed"
    },
    "tags": []
   },
   "source": [
    "# **Iterating corpus**"
   ]
  },
  {
   "cell_type": "code",
   "execution_count": 12,
   "id": "9c731cdb",
   "metadata": {
    "execution": {
     "iopub.execute_input": "2025-04-20T09:12:12.525535Z",
     "iopub.status.busy": "2025-04-20T09:12:12.525115Z",
     "iopub.status.idle": "2025-04-20T09:12:12.531327Z",
     "shell.execute_reply": "2025-04-20T09:12:12.530045Z"
    },
    "papermill": {
     "duration": 0.013173,
     "end_time": "2025-04-20T09:12:12.532854",
     "exception": false,
     "start_time": "2025-04-20T09:12:12.519681",
     "status": "completed"
    },
    "tags": []
   },
   "outputs": [
    {
     "name": "stdout",
     "output_type": "stream",
     "text": [
      "imran=====> PROPN, NNP--> noun, proper singular\n",
      "ashraf=====> NOUN, NNS--> noun, plural\n",
      "is=====> AUX, VBZ--> verb, 3rd person singular present\n",
      "a=====> DET, DT--> determiner\n",
      "laravel=====> NOUN, NN--> noun, singular or mass\n",
      "developer=====> NOUN, NN--> noun, singular or mass\n",
      "with=====> ADP, IN--> conjunction, subordinating or preposition\n",
      "expertise=====> NOUN, NN--> noun, singular or mass\n",
      "in=====> ADP, IN--> conjunction, subordinating or preposition\n",
      "web=====> NOUN, NN--> noun, singular or mass\n",
      "application=====> NOUN, NN--> noun, singular or mass\n",
      "development=====> NOUN, NN--> noun, singular or mass\n",
      ",=====> PUNCT, ,--> punctuation mark, comma\n",
      "restful=====> ADJ, JJ--> adjective (English), other noun-modifier (Chinese)\n",
      "apis=====> NOUN, NN--> noun, singular or mass\n",
      ",=====> PUNCT, ,--> punctuation mark, comma\n",
      "and=====> CCONJ, CC--> conjunction, coordinating\n",
      "scalable=====> ADJ, JJ--> adjective (English), other noun-modifier (Chinese)\n",
      "backend=====> ADJ, JJ--> adjective (English), other noun-modifier (Chinese)\n",
      "solutions=====> NOUN, NNS--> noun, plural\n"
     ]
    }
   ],
   "source": [
    "for word in corpus:\n",
    "    print(word.text+\"=====>\",word.pos_+\",\",word.tag_+\"-->\",spacy.explain(word.tag_))"
   ]
  },
  {
   "cell_type": "code",
   "execution_count": 13,
   "id": "70df92e0",
   "metadata": {
    "execution": {
     "iopub.execute_input": "2025-04-20T09:12:12.544950Z",
     "iopub.status.busy": "2025-04-20T09:12:12.543905Z",
     "iopub.status.idle": "2025-04-20T09:12:12.556590Z",
     "shell.execute_reply": "2025-04-20T09:12:12.555517Z"
    },
    "papermill": {
     "duration": 0.020306,
     "end_time": "2025-04-20T09:12:12.558112",
     "exception": false,
     "start_time": "2025-04-20T09:12:12.537806",
     "status": "completed"
    },
    "tags": []
   },
   "outputs": [
    {
     "data": {
      "text/html": [
       "<span class=\"tex2jax_ignore\"><svg xmlns=\"http://www.w3.org/2000/svg\" xmlns:xlink=\"http://www.w3.org/1999/xlink\" xml:lang=\"en\" id=\"70f3634cd4a142c38d8e76c3f7c4f15d-0\" class=\"displacy\" width=\"3200\" height=\"399.5\" direction=\"ltr\" style=\"max-width: none; height: 399.5px; color: #000000; background: #ffffff; font-family: Arial; direction: ltr\">\n",
       "<text class=\"displacy-token\" fill=\"currentColor\" text-anchor=\"middle\" y=\"309.5\">\n",
       "    <tspan class=\"displacy-word\" fill=\"currentColor\" x=\"50\">imran</tspan>\n",
       "    <tspan class=\"displacy-tag\" dy=\"2em\" fill=\"currentColor\" x=\"50\">PROPN</tspan>\n",
       "</text>\n",
       "\n",
       "<text class=\"displacy-token\" fill=\"currentColor\" text-anchor=\"middle\" y=\"309.5\">\n",
       "    <tspan class=\"displacy-word\" fill=\"currentColor\" x=\"225\">ashraf</tspan>\n",
       "    <tspan class=\"displacy-tag\" dy=\"2em\" fill=\"currentColor\" x=\"225\">NOUN</tspan>\n",
       "</text>\n",
       "\n",
       "<text class=\"displacy-token\" fill=\"currentColor\" text-anchor=\"middle\" y=\"309.5\">\n",
       "    <tspan class=\"displacy-word\" fill=\"currentColor\" x=\"400\">is</tspan>\n",
       "    <tspan class=\"displacy-tag\" dy=\"2em\" fill=\"currentColor\" x=\"400\">AUX</tspan>\n",
       "</text>\n",
       "\n",
       "<text class=\"displacy-token\" fill=\"currentColor\" text-anchor=\"middle\" y=\"309.5\">\n",
       "    <tspan class=\"displacy-word\" fill=\"currentColor\" x=\"575\">a</tspan>\n",
       "    <tspan class=\"displacy-tag\" dy=\"2em\" fill=\"currentColor\" x=\"575\">DET</tspan>\n",
       "</text>\n",
       "\n",
       "<text class=\"displacy-token\" fill=\"currentColor\" text-anchor=\"middle\" y=\"309.5\">\n",
       "    <tspan class=\"displacy-word\" fill=\"currentColor\" x=\"750\">laravel</tspan>\n",
       "    <tspan class=\"displacy-tag\" dy=\"2em\" fill=\"currentColor\" x=\"750\">NOUN</tspan>\n",
       "</text>\n",
       "\n",
       "<text class=\"displacy-token\" fill=\"currentColor\" text-anchor=\"middle\" y=\"309.5\">\n",
       "    <tspan class=\"displacy-word\" fill=\"currentColor\" x=\"925\">developer</tspan>\n",
       "    <tspan class=\"displacy-tag\" dy=\"2em\" fill=\"currentColor\" x=\"925\">NOUN</tspan>\n",
       "</text>\n",
       "\n",
       "<text class=\"displacy-token\" fill=\"currentColor\" text-anchor=\"middle\" y=\"309.5\">\n",
       "    <tspan class=\"displacy-word\" fill=\"currentColor\" x=\"1100\">with</tspan>\n",
       "    <tspan class=\"displacy-tag\" dy=\"2em\" fill=\"currentColor\" x=\"1100\">ADP</tspan>\n",
       "</text>\n",
       "\n",
       "<text class=\"displacy-token\" fill=\"currentColor\" text-anchor=\"middle\" y=\"309.5\">\n",
       "    <tspan class=\"displacy-word\" fill=\"currentColor\" x=\"1275\">expertise</tspan>\n",
       "    <tspan class=\"displacy-tag\" dy=\"2em\" fill=\"currentColor\" x=\"1275\">NOUN</tspan>\n",
       "</text>\n",
       "\n",
       "<text class=\"displacy-token\" fill=\"currentColor\" text-anchor=\"middle\" y=\"309.5\">\n",
       "    <tspan class=\"displacy-word\" fill=\"currentColor\" x=\"1450\">in</tspan>\n",
       "    <tspan class=\"displacy-tag\" dy=\"2em\" fill=\"currentColor\" x=\"1450\">ADP</tspan>\n",
       "</text>\n",
       "\n",
       "<text class=\"displacy-token\" fill=\"currentColor\" text-anchor=\"middle\" y=\"309.5\">\n",
       "    <tspan class=\"displacy-word\" fill=\"currentColor\" x=\"1625\">web</tspan>\n",
       "    <tspan class=\"displacy-tag\" dy=\"2em\" fill=\"currentColor\" x=\"1625\">NOUN</tspan>\n",
       "</text>\n",
       "\n",
       "<text class=\"displacy-token\" fill=\"currentColor\" text-anchor=\"middle\" y=\"309.5\">\n",
       "    <tspan class=\"displacy-word\" fill=\"currentColor\" x=\"1800\">application</tspan>\n",
       "    <tspan class=\"displacy-tag\" dy=\"2em\" fill=\"currentColor\" x=\"1800\">NOUN</tspan>\n",
       "</text>\n",
       "\n",
       "<text class=\"displacy-token\" fill=\"currentColor\" text-anchor=\"middle\" y=\"309.5\">\n",
       "    <tspan class=\"displacy-word\" fill=\"currentColor\" x=\"1975\">development,</tspan>\n",
       "    <tspan class=\"displacy-tag\" dy=\"2em\" fill=\"currentColor\" x=\"1975\">NOUN</tspan>\n",
       "</text>\n",
       "\n",
       "<text class=\"displacy-token\" fill=\"currentColor\" text-anchor=\"middle\" y=\"309.5\">\n",
       "    <tspan class=\"displacy-word\" fill=\"currentColor\" x=\"2150\">restful</tspan>\n",
       "    <tspan class=\"displacy-tag\" dy=\"2em\" fill=\"currentColor\" x=\"2150\">ADJ</tspan>\n",
       "</text>\n",
       "\n",
       "<text class=\"displacy-token\" fill=\"currentColor\" text-anchor=\"middle\" y=\"309.5\">\n",
       "    <tspan class=\"displacy-word\" fill=\"currentColor\" x=\"2325\">apis,</tspan>\n",
       "    <tspan class=\"displacy-tag\" dy=\"2em\" fill=\"currentColor\" x=\"2325\">NOUN</tspan>\n",
       "</text>\n",
       "\n",
       "<text class=\"displacy-token\" fill=\"currentColor\" text-anchor=\"middle\" y=\"309.5\">\n",
       "    <tspan class=\"displacy-word\" fill=\"currentColor\" x=\"2500\">and</tspan>\n",
       "    <tspan class=\"displacy-tag\" dy=\"2em\" fill=\"currentColor\" x=\"2500\">CCONJ</tspan>\n",
       "</text>\n",
       "\n",
       "<text class=\"displacy-token\" fill=\"currentColor\" text-anchor=\"middle\" y=\"309.5\">\n",
       "    <tspan class=\"displacy-word\" fill=\"currentColor\" x=\"2675\">scalable</tspan>\n",
       "    <tspan class=\"displacy-tag\" dy=\"2em\" fill=\"currentColor\" x=\"2675\">ADJ</tspan>\n",
       "</text>\n",
       "\n",
       "<text class=\"displacy-token\" fill=\"currentColor\" text-anchor=\"middle\" y=\"309.5\">\n",
       "    <tspan class=\"displacy-word\" fill=\"currentColor\" x=\"2850\">backend</tspan>\n",
       "    <tspan class=\"displacy-tag\" dy=\"2em\" fill=\"currentColor\" x=\"2850\">ADJ</tspan>\n",
       "</text>\n",
       "\n",
       "<text class=\"displacy-token\" fill=\"currentColor\" text-anchor=\"middle\" y=\"309.5\">\n",
       "    <tspan class=\"displacy-word\" fill=\"currentColor\" x=\"3025\">solutions</tspan>\n",
       "    <tspan class=\"displacy-tag\" dy=\"2em\" fill=\"currentColor\" x=\"3025\">NOUN</tspan>\n",
       "</text>\n",
       "\n",
       "<g class=\"displacy-arrow\">\n",
       "    <path class=\"displacy-arc\" id=\"arrow-70f3634cd4a142c38d8e76c3f7c4f15d-0-0\" stroke-width=\"2px\" d=\"M70,264.5 C70,177.0 215.0,177.0 215.0,264.5\" fill=\"none\" stroke=\"currentColor\"/>\n",
       "    <text dy=\"1.25em\" style=\"font-size: 0.8em; letter-spacing: 1px\">\n",
       "        <textPath xlink:href=\"#arrow-70f3634cd4a142c38d8e76c3f7c4f15d-0-0\" class=\"displacy-label\" startOffset=\"50%\" side=\"left\" fill=\"currentColor\" text-anchor=\"middle\">compound</textPath>\n",
       "    </text>\n",
       "    <path class=\"displacy-arrowhead\" d=\"M70,266.5 L62,254.5 78,254.5\" fill=\"currentColor\"/>\n",
       "</g>\n",
       "\n",
       "<g class=\"displacy-arrow\">\n",
       "    <path class=\"displacy-arc\" id=\"arrow-70f3634cd4a142c38d8e76c3f7c4f15d-0-1\" stroke-width=\"2px\" d=\"M245,264.5 C245,177.0 390.0,177.0 390.0,264.5\" fill=\"none\" stroke=\"currentColor\"/>\n",
       "    <text dy=\"1.25em\" style=\"font-size: 0.8em; letter-spacing: 1px\">\n",
       "        <textPath xlink:href=\"#arrow-70f3634cd4a142c38d8e76c3f7c4f15d-0-1\" class=\"displacy-label\" startOffset=\"50%\" side=\"left\" fill=\"currentColor\" text-anchor=\"middle\">nsubj</textPath>\n",
       "    </text>\n",
       "    <path class=\"displacy-arrowhead\" d=\"M245,266.5 L237,254.5 253,254.5\" fill=\"currentColor\"/>\n",
       "</g>\n",
       "\n",
       "<g class=\"displacy-arrow\">\n",
       "    <path class=\"displacy-arc\" id=\"arrow-70f3634cd4a142c38d8e76c3f7c4f15d-0-2\" stroke-width=\"2px\" d=\"M595,264.5 C595,89.5 920.0,89.5 920.0,264.5\" fill=\"none\" stroke=\"currentColor\"/>\n",
       "    <text dy=\"1.25em\" style=\"font-size: 0.8em; letter-spacing: 1px\">\n",
       "        <textPath xlink:href=\"#arrow-70f3634cd4a142c38d8e76c3f7c4f15d-0-2\" class=\"displacy-label\" startOffset=\"50%\" side=\"left\" fill=\"currentColor\" text-anchor=\"middle\">det</textPath>\n",
       "    </text>\n",
       "    <path class=\"displacy-arrowhead\" d=\"M595,266.5 L587,254.5 603,254.5\" fill=\"currentColor\"/>\n",
       "</g>\n",
       "\n",
       "<g class=\"displacy-arrow\">\n",
       "    <path class=\"displacy-arc\" id=\"arrow-70f3634cd4a142c38d8e76c3f7c4f15d-0-3\" stroke-width=\"2px\" d=\"M770,264.5 C770,177.0 915.0,177.0 915.0,264.5\" fill=\"none\" stroke=\"currentColor\"/>\n",
       "    <text dy=\"1.25em\" style=\"font-size: 0.8em; letter-spacing: 1px\">\n",
       "        <textPath xlink:href=\"#arrow-70f3634cd4a142c38d8e76c3f7c4f15d-0-3\" class=\"displacy-label\" startOffset=\"50%\" side=\"left\" fill=\"currentColor\" text-anchor=\"middle\">compound</textPath>\n",
       "    </text>\n",
       "    <path class=\"displacy-arrowhead\" d=\"M770,266.5 L762,254.5 778,254.5\" fill=\"currentColor\"/>\n",
       "</g>\n",
       "\n",
       "<g class=\"displacy-arrow\">\n",
       "    <path class=\"displacy-arc\" id=\"arrow-70f3634cd4a142c38d8e76c3f7c4f15d-0-4\" stroke-width=\"2px\" d=\"M420,264.5 C420,2.0 925.0,2.0 925.0,264.5\" fill=\"none\" stroke=\"currentColor\"/>\n",
       "    <text dy=\"1.25em\" style=\"font-size: 0.8em; letter-spacing: 1px\">\n",
       "        <textPath xlink:href=\"#arrow-70f3634cd4a142c38d8e76c3f7c4f15d-0-4\" class=\"displacy-label\" startOffset=\"50%\" side=\"left\" fill=\"currentColor\" text-anchor=\"middle\">attr</textPath>\n",
       "    </text>\n",
       "    <path class=\"displacy-arrowhead\" d=\"M925.0,266.5 L933.0,254.5 917.0,254.5\" fill=\"currentColor\"/>\n",
       "</g>\n",
       "\n",
       "<g class=\"displacy-arrow\">\n",
       "    <path class=\"displacy-arc\" id=\"arrow-70f3634cd4a142c38d8e76c3f7c4f15d-0-5\" stroke-width=\"2px\" d=\"M945,264.5 C945,177.0 1090.0,177.0 1090.0,264.5\" fill=\"none\" stroke=\"currentColor\"/>\n",
       "    <text dy=\"1.25em\" style=\"font-size: 0.8em; letter-spacing: 1px\">\n",
       "        <textPath xlink:href=\"#arrow-70f3634cd4a142c38d8e76c3f7c4f15d-0-5\" class=\"displacy-label\" startOffset=\"50%\" side=\"left\" fill=\"currentColor\" text-anchor=\"middle\">prep</textPath>\n",
       "    </text>\n",
       "    <path class=\"displacy-arrowhead\" d=\"M1090.0,266.5 L1098.0,254.5 1082.0,254.5\" fill=\"currentColor\"/>\n",
       "</g>\n",
       "\n",
       "<g class=\"displacy-arrow\">\n",
       "    <path class=\"displacy-arc\" id=\"arrow-70f3634cd4a142c38d8e76c3f7c4f15d-0-6\" stroke-width=\"2px\" d=\"M1120,264.5 C1120,177.0 1265.0,177.0 1265.0,264.5\" fill=\"none\" stroke=\"currentColor\"/>\n",
       "    <text dy=\"1.25em\" style=\"font-size: 0.8em; letter-spacing: 1px\">\n",
       "        <textPath xlink:href=\"#arrow-70f3634cd4a142c38d8e76c3f7c4f15d-0-6\" class=\"displacy-label\" startOffset=\"50%\" side=\"left\" fill=\"currentColor\" text-anchor=\"middle\">pobj</textPath>\n",
       "    </text>\n",
       "    <path class=\"displacy-arrowhead\" d=\"M1265.0,266.5 L1273.0,254.5 1257.0,254.5\" fill=\"currentColor\"/>\n",
       "</g>\n",
       "\n",
       "<g class=\"displacy-arrow\">\n",
       "    <path class=\"displacy-arc\" id=\"arrow-70f3634cd4a142c38d8e76c3f7c4f15d-0-7\" stroke-width=\"2px\" d=\"M945,264.5 C945,89.5 1445.0,89.5 1445.0,264.5\" fill=\"none\" stroke=\"currentColor\"/>\n",
       "    <text dy=\"1.25em\" style=\"font-size: 0.8em; letter-spacing: 1px\">\n",
       "        <textPath xlink:href=\"#arrow-70f3634cd4a142c38d8e76c3f7c4f15d-0-7\" class=\"displacy-label\" startOffset=\"50%\" side=\"left\" fill=\"currentColor\" text-anchor=\"middle\">prep</textPath>\n",
       "    </text>\n",
       "    <path class=\"displacy-arrowhead\" d=\"M1445.0,266.5 L1453.0,254.5 1437.0,254.5\" fill=\"currentColor\"/>\n",
       "</g>\n",
       "\n",
       "<g class=\"displacy-arrow\">\n",
       "    <path class=\"displacy-arc\" id=\"arrow-70f3634cd4a142c38d8e76c3f7c4f15d-0-8\" stroke-width=\"2px\" d=\"M1645,264.5 C1645,177.0 1790.0,177.0 1790.0,264.5\" fill=\"none\" stroke=\"currentColor\"/>\n",
       "    <text dy=\"1.25em\" style=\"font-size: 0.8em; letter-spacing: 1px\">\n",
       "        <textPath xlink:href=\"#arrow-70f3634cd4a142c38d8e76c3f7c4f15d-0-8\" class=\"displacy-label\" startOffset=\"50%\" side=\"left\" fill=\"currentColor\" text-anchor=\"middle\">compound</textPath>\n",
       "    </text>\n",
       "    <path class=\"displacy-arrowhead\" d=\"M1645,266.5 L1637,254.5 1653,254.5\" fill=\"currentColor\"/>\n",
       "</g>\n",
       "\n",
       "<g class=\"displacy-arrow\">\n",
       "    <path class=\"displacy-arc\" id=\"arrow-70f3634cd4a142c38d8e76c3f7c4f15d-0-9\" stroke-width=\"2px\" d=\"M1820,264.5 C1820,177.0 1965.0,177.0 1965.0,264.5\" fill=\"none\" stroke=\"currentColor\"/>\n",
       "    <text dy=\"1.25em\" style=\"font-size: 0.8em; letter-spacing: 1px\">\n",
       "        <textPath xlink:href=\"#arrow-70f3634cd4a142c38d8e76c3f7c4f15d-0-9\" class=\"displacy-label\" startOffset=\"50%\" side=\"left\" fill=\"currentColor\" text-anchor=\"middle\">compound</textPath>\n",
       "    </text>\n",
       "    <path class=\"displacy-arrowhead\" d=\"M1820,266.5 L1812,254.5 1828,254.5\" fill=\"currentColor\"/>\n",
       "</g>\n",
       "\n",
       "<g class=\"displacy-arrow\">\n",
       "    <path class=\"displacy-arc\" id=\"arrow-70f3634cd4a142c38d8e76c3f7c4f15d-0-10\" stroke-width=\"2px\" d=\"M1470,264.5 C1470,89.5 1970.0,89.5 1970.0,264.5\" fill=\"none\" stroke=\"currentColor\"/>\n",
       "    <text dy=\"1.25em\" style=\"font-size: 0.8em; letter-spacing: 1px\">\n",
       "        <textPath xlink:href=\"#arrow-70f3634cd4a142c38d8e76c3f7c4f15d-0-10\" class=\"displacy-label\" startOffset=\"50%\" side=\"left\" fill=\"currentColor\" text-anchor=\"middle\">pobj</textPath>\n",
       "    </text>\n",
       "    <path class=\"displacy-arrowhead\" d=\"M1970.0,266.5 L1978.0,254.5 1962.0,254.5\" fill=\"currentColor\"/>\n",
       "</g>\n",
       "\n",
       "<g class=\"displacy-arrow\">\n",
       "    <path class=\"displacy-arc\" id=\"arrow-70f3634cd4a142c38d8e76c3f7c4f15d-0-11\" stroke-width=\"2px\" d=\"M2170,264.5 C2170,177.0 2315.0,177.0 2315.0,264.5\" fill=\"none\" stroke=\"currentColor\"/>\n",
       "    <text dy=\"1.25em\" style=\"font-size: 0.8em; letter-spacing: 1px\">\n",
       "        <textPath xlink:href=\"#arrow-70f3634cd4a142c38d8e76c3f7c4f15d-0-11\" class=\"displacy-label\" startOffset=\"50%\" side=\"left\" fill=\"currentColor\" text-anchor=\"middle\">amod</textPath>\n",
       "    </text>\n",
       "    <path class=\"displacy-arrowhead\" d=\"M2170,266.5 L2162,254.5 2178,254.5\" fill=\"currentColor\"/>\n",
       "</g>\n",
       "\n",
       "<g class=\"displacy-arrow\">\n",
       "    <path class=\"displacy-arc\" id=\"arrow-70f3634cd4a142c38d8e76c3f7c4f15d-0-12\" stroke-width=\"2px\" d=\"M1995,264.5 C1995,89.5 2320.0,89.5 2320.0,264.5\" fill=\"none\" stroke=\"currentColor\"/>\n",
       "    <text dy=\"1.25em\" style=\"font-size: 0.8em; letter-spacing: 1px\">\n",
       "        <textPath xlink:href=\"#arrow-70f3634cd4a142c38d8e76c3f7c4f15d-0-12\" class=\"displacy-label\" startOffset=\"50%\" side=\"left\" fill=\"currentColor\" text-anchor=\"middle\">conj</textPath>\n",
       "    </text>\n",
       "    <path class=\"displacy-arrowhead\" d=\"M2320.0,266.5 L2328.0,254.5 2312.0,254.5\" fill=\"currentColor\"/>\n",
       "</g>\n",
       "\n",
       "<g class=\"displacy-arrow\">\n",
       "    <path class=\"displacy-arc\" id=\"arrow-70f3634cd4a142c38d8e76c3f7c4f15d-0-13\" stroke-width=\"2px\" d=\"M2345,264.5 C2345,177.0 2490.0,177.0 2490.0,264.5\" fill=\"none\" stroke=\"currentColor\"/>\n",
       "    <text dy=\"1.25em\" style=\"font-size: 0.8em; letter-spacing: 1px\">\n",
       "        <textPath xlink:href=\"#arrow-70f3634cd4a142c38d8e76c3f7c4f15d-0-13\" class=\"displacy-label\" startOffset=\"50%\" side=\"left\" fill=\"currentColor\" text-anchor=\"middle\">cc</textPath>\n",
       "    </text>\n",
       "    <path class=\"displacy-arrowhead\" d=\"M2490.0,266.5 L2498.0,254.5 2482.0,254.5\" fill=\"currentColor\"/>\n",
       "</g>\n",
       "\n",
       "<g class=\"displacy-arrow\">\n",
       "    <path class=\"displacy-arc\" id=\"arrow-70f3634cd4a142c38d8e76c3f7c4f15d-0-14\" stroke-width=\"2px\" d=\"M2695,264.5 C2695,89.5 3020.0,89.5 3020.0,264.5\" fill=\"none\" stroke=\"currentColor\"/>\n",
       "    <text dy=\"1.25em\" style=\"font-size: 0.8em; letter-spacing: 1px\">\n",
       "        <textPath xlink:href=\"#arrow-70f3634cd4a142c38d8e76c3f7c4f15d-0-14\" class=\"displacy-label\" startOffset=\"50%\" side=\"left\" fill=\"currentColor\" text-anchor=\"middle\">amod</textPath>\n",
       "    </text>\n",
       "    <path class=\"displacy-arrowhead\" d=\"M2695,266.5 L2687,254.5 2703,254.5\" fill=\"currentColor\"/>\n",
       "</g>\n",
       "\n",
       "<g class=\"displacy-arrow\">\n",
       "    <path class=\"displacy-arc\" id=\"arrow-70f3634cd4a142c38d8e76c3f7c4f15d-0-15\" stroke-width=\"2px\" d=\"M2870,264.5 C2870,177.0 3015.0,177.0 3015.0,264.5\" fill=\"none\" stroke=\"currentColor\"/>\n",
       "    <text dy=\"1.25em\" style=\"font-size: 0.8em; letter-spacing: 1px\">\n",
       "        <textPath xlink:href=\"#arrow-70f3634cd4a142c38d8e76c3f7c4f15d-0-15\" class=\"displacy-label\" startOffset=\"50%\" side=\"left\" fill=\"currentColor\" text-anchor=\"middle\">amod</textPath>\n",
       "    </text>\n",
       "    <path class=\"displacy-arrowhead\" d=\"M2870,266.5 L2862,254.5 2878,254.5\" fill=\"currentColor\"/>\n",
       "</g>\n",
       "\n",
       "<g class=\"displacy-arrow\">\n",
       "    <path class=\"displacy-arc\" id=\"arrow-70f3634cd4a142c38d8e76c3f7c4f15d-0-16\" stroke-width=\"2px\" d=\"M2345,264.5 C2345,2.0 3025.0,2.0 3025.0,264.5\" fill=\"none\" stroke=\"currentColor\"/>\n",
       "    <text dy=\"1.25em\" style=\"font-size: 0.8em; letter-spacing: 1px\">\n",
       "        <textPath xlink:href=\"#arrow-70f3634cd4a142c38d8e76c3f7c4f15d-0-16\" class=\"displacy-label\" startOffset=\"50%\" side=\"left\" fill=\"currentColor\" text-anchor=\"middle\">conj</textPath>\n",
       "    </text>\n",
       "    <path class=\"displacy-arrowhead\" d=\"M3025.0,266.5 L3033.0,254.5 3017.0,254.5\" fill=\"currentColor\"/>\n",
       "</g>\n",
       "</svg></span>"
      ],
      "text/plain": [
       "<IPython.core.display.HTML object>"
      ]
     },
     "metadata": {},
     "output_type": "display_data"
    }
   ],
   "source": [
    "from spacy import displacy\n",
    "\n",
    "displacy.render(corpus,style='dep',jupyter=True)"
   ]
  }
 ],
 "metadata": {
  "kaggle": {
   "accelerator": "none",
   "dataSources": [],
   "dockerImageVersionId": 31012,
   "isGpuEnabled": false,
   "isInternetEnabled": true,
   "language": "python",
   "sourceType": "notebook"
  },
  "kernelspec": {
   "display_name": "Python 3",
   "language": "python",
   "name": "python3"
  },
  "language_info": {
   "codemirror_mode": {
    "name": "ipython",
    "version": 3
   },
   "file_extension": ".py",
   "mimetype": "text/x-python",
   "name": "python",
   "nbconvert_exporter": "python",
   "pygments_lexer": "ipython3",
   "version": "3.11.11"
  },
  "papermill": {
   "default_parameters": {},
   "duration": 24.211699,
   "end_time": "2025-04-20T09:12:15.046972",
   "environment_variables": {},
   "exception": null,
   "input_path": "__notebook__.ipynb",
   "output_path": "__notebook__.ipynb",
   "parameters": {},
   "start_time": "2025-04-20T09:11:50.835273",
   "version": "2.6.0"
  }
 },
 "nbformat": 4,
 "nbformat_minor": 5
}
