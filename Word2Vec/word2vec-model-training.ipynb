{
 "cells": [
  {
   "cell_type": "code",
   "execution_count": 1,
   "id": "b87b78e4",
   "metadata": {
    "_cell_guid": "b1076dfc-b9ad-4769-8c92-a6c4dae69d19",
    "_uuid": "8f2839f25d086af736a60e9eeb907d3b93b6e0e5",
    "execution": {
     "iopub.execute_input": "2025-04-07T17:29:36.638341Z",
     "iopub.status.busy": "2025-04-07T17:29:36.637899Z",
     "iopub.status.idle": "2025-04-07T17:29:37.538231Z",
     "shell.execute_reply": "2025-04-07T17:29:37.537156Z"
    },
    "papermill": {
     "duration": 0.90828,
     "end_time": "2025-04-07T17:29:37.540312",
     "exception": false,
     "start_time": "2025-04-07T17:29:36.632032",
     "status": "completed"
    },
    "tags": []
   },
   "outputs": [],
   "source": [
    "import numpy as np\n",
    "import pandas as pd"
   ]
  },
  {
   "cell_type": "code",
   "execution_count": 2,
   "id": "51702513",
   "metadata": {
    "execution": {
     "iopub.execute_input": "2025-04-07T17:29:37.551442Z",
     "iopub.status.busy": "2025-04-07T17:29:37.550906Z",
     "iopub.status.idle": "2025-04-07T17:29:42.793111Z",
     "shell.execute_reply": "2025-04-07T17:29:42.791721Z"
    },
    "papermill": {
     "duration": 5.24996,
     "end_time": "2025-04-07T17:29:42.795144",
     "exception": false,
     "start_time": "2025-04-07T17:29:37.545184",
     "status": "completed"
    },
    "tags": []
   },
   "outputs": [
    {
     "name": "stdout",
     "output_type": "stream",
     "text": [
      "Requirement already satisfied: gensim in /usr/local/lib/python3.10/dist-packages (4.3.3)\r\n",
      "Requirement already satisfied: numpy<2.0,>=1.18.5 in /usr/local/lib/python3.10/dist-packages (from gensim) (1.26.4)\r\n",
      "Requirement already satisfied: scipy<1.14.0,>=1.7.0 in /usr/local/lib/python3.10/dist-packages (from gensim) (1.13.1)\r\n",
      "Requirement already satisfied: smart-open>=1.8.1 in /usr/local/lib/python3.10/dist-packages (from gensim) (7.0.5)\r\n",
      "Requirement already satisfied: mkl_fft in /usr/local/lib/python3.10/dist-packages (from numpy<2.0,>=1.18.5->gensim) (1.3.8)\r\n",
      "Requirement already satisfied: mkl_random in /usr/local/lib/python3.10/dist-packages (from numpy<2.0,>=1.18.5->gensim) (1.2.4)\r\n",
      "Requirement already satisfied: mkl_umath in /usr/local/lib/python3.10/dist-packages (from numpy<2.0,>=1.18.5->gensim) (0.1.1)\r\n",
      "Requirement already satisfied: mkl in /usr/local/lib/python3.10/dist-packages (from numpy<2.0,>=1.18.5->gensim) (2025.0.1)\r\n",
      "Requirement already satisfied: tbb4py in /usr/local/lib/python3.10/dist-packages (from numpy<2.0,>=1.18.5->gensim) (2022.0.0)\r\n",
      "Requirement already satisfied: mkl-service in /usr/local/lib/python3.10/dist-packages (from numpy<2.0,>=1.18.5->gensim) (2.4.1)\r\n",
      "Requirement already satisfied: wrapt in /usr/local/lib/python3.10/dist-packages (from smart-open>=1.8.1->gensim) (1.17.0)\r\n",
      "Requirement already satisfied: intel-openmp>=2024 in /usr/local/lib/python3.10/dist-packages (from mkl->numpy<2.0,>=1.18.5->gensim) (2024.2.0)\r\n",
      "Requirement already satisfied: tbb==2022.* in /usr/local/lib/python3.10/dist-packages (from mkl->numpy<2.0,>=1.18.5->gensim) (2022.0.0)\r\n",
      "Requirement already satisfied: tcmlib==1.* in /usr/local/lib/python3.10/dist-packages (from tbb==2022.*->mkl->numpy<2.0,>=1.18.5->gensim) (1.2.0)\r\n",
      "Requirement already satisfied: intel-cmplr-lib-rt in /usr/local/lib/python3.10/dist-packages (from mkl_umath->numpy<2.0,>=1.18.5->gensim) (2024.2.0)\r\n",
      "Requirement already satisfied: intel-cmplr-lib-ur==2024.2.0 in /usr/local/lib/python3.10/dist-packages (from intel-openmp>=2024->mkl->numpy<2.0,>=1.18.5->gensim) (2024.2.0)\r\n"
     ]
    }
   ],
   "source": [
    "!pip install gensim"
   ]
  },
  {
   "cell_type": "code",
   "execution_count": 3,
   "id": "a71f8e5d",
   "metadata": {
    "execution": {
     "iopub.execute_input": "2025-04-07T17:29:42.805116Z",
     "iopub.status.busy": "2025-04-07T17:29:42.804742Z",
     "iopub.status.idle": "2025-04-07T17:30:02.485936Z",
     "shell.execute_reply": "2025-04-07T17:30:02.485021Z"
    },
    "papermill": {
     "duration": 19.688004,
     "end_time": "2025-04-07T17:30:02.487564",
     "exception": false,
     "start_time": "2025-04-07T17:29:42.799560",
     "status": "completed"
    },
    "tags": []
   },
   "outputs": [
    {
     "name": "stdout",
     "output_type": "stream",
     "text": [
      "[nltk_data] Downloading package punkt to /usr/share/nltk_data...\n",
      "[nltk_data]   Package punkt is already up-to-date!\n",
      "[nltk_data] Downloading package stopwords to /usr/share/nltk_data...\n",
      "[nltk_data]   Unzipping corpora/stopwords.zip.\n"
     ]
    },
    {
     "data": {
      "text/plain": [
       "True"
      ]
     },
     "execution_count": 3,
     "metadata": {},
     "output_type": "execute_result"
    }
   ],
   "source": [
    "import nltk\n",
    "from nltk.corpus import stopwords\n",
    "from nltk.tokenize import sent_tokenize, word_tokenize\n",
    "from gensim.utils import simple_preprocess\n",
    "import os\n",
    "import gensim\n",
    "\n",
    "nltk.download('punkt')\n",
    "nltk.download('stopwords')\n"
   ]
  },
  {
   "cell_type": "code",
   "execution_count": 4,
   "id": "20b131a4",
   "metadata": {
    "execution": {
     "iopub.execute_input": "2025-04-07T17:30:02.497340Z",
     "iopub.status.busy": "2025-04-07T17:30:02.496762Z",
     "iopub.status.idle": "2025-04-07T17:30:09.628377Z",
     "shell.execute_reply": "2025-04-07T17:30:09.627250Z"
    },
    "papermill": {
     "duration": 7.138593,
     "end_time": "2025-04-07T17:30:09.630392",
     "exception": false,
     "start_time": "2025-04-07T17:30:02.491799",
     "status": "completed"
    },
    "tags": []
   },
   "outputs": [],
   "source": [
    "story=[]\n",
    "stop_words = set(stopwords.words('english'))\n",
    "\n",
    "for filename in os.listdir('/kaggle/input/game-of-thrones-books'):\n",
    "    f = open(os.path.join('/kaggle/input/game-of-thrones-books',filename),errors='ignore')\n",
    "    corpus = f.read()\n",
    "    \n",
    "    raw_sent = sent_tokenize(corpus)\n",
    "    for sent in raw_sent:\n",
    "        tokens = simple_preprocess(sent)\n",
    "        filtered_tokens = [word for word in tokens if word not in stop_words]\n",
    "        story.append(filtered_tokens)\n",
    "\n",
    "    f.close()"
   ]
  },
  {
   "cell_type": "code",
   "execution_count": 5,
   "id": "d24fde6f",
   "metadata": {
    "execution": {
     "iopub.execute_input": "2025-04-07T17:30:09.640270Z",
     "iopub.status.busy": "2025-04-07T17:30:09.639880Z",
     "iopub.status.idle": "2025-04-07T17:30:09.645369Z",
     "shell.execute_reply": "2025-04-07T17:30:09.644403Z"
    },
    "papermill": {
     "duration": 0.012167,
     "end_time": "2025-04-07T17:30:09.646980",
     "exception": false,
     "start_time": "2025-04-07T17:30:09.634813",
     "status": "completed"
    },
    "tags": []
   },
   "outputs": [
    {
     "data": {
      "text/plain": [
       "158872"
      ]
     },
     "execution_count": 5,
     "metadata": {},
     "output_type": "execute_result"
    }
   ],
   "source": [
    "len(story)"
   ]
  },
  {
   "cell_type": "code",
   "execution_count": 6,
   "id": "ef1c152a",
   "metadata": {
    "execution": {
     "iopub.execute_input": "2025-04-07T17:30:09.656725Z",
     "iopub.status.busy": "2025-04-07T17:30:09.656373Z",
     "iopub.status.idle": "2025-04-07T17:30:09.663072Z",
     "shell.execute_reply": "2025-04-07T17:30:09.662289Z"
    },
    "papermill": {
     "duration": 0.013189,
     "end_time": "2025-04-07T17:30:09.664547",
     "exception": false,
     "start_time": "2025-04-07T17:30:09.651358",
     "status": "completed"
    },
    "tags": []
   },
   "outputs": [],
   "source": [
    "model=gensim.models.Word2Vec(\n",
    "    window=10,\n",
    "    min_count=2\n",
    ")"
   ]
  },
  {
   "cell_type": "code",
   "execution_count": 7,
   "id": "f7f9634a",
   "metadata": {
    "execution": {
     "iopub.execute_input": "2025-04-07T17:30:09.674613Z",
     "iopub.status.busy": "2025-04-07T17:30:09.674223Z",
     "iopub.status.idle": "2025-04-07T17:30:10.224650Z",
     "shell.execute_reply": "2025-04-07T17:30:10.223522Z"
    },
    "papermill": {
     "duration": 0.557565,
     "end_time": "2025-04-07T17:30:10.226581",
     "exception": false,
     "start_time": "2025-04-07T17:30:09.669016",
     "status": "completed"
    },
    "tags": []
   },
   "outputs": [],
   "source": [
    "model.build_vocab(story)"
   ]
  },
  {
   "cell_type": "code",
   "execution_count": 8,
   "id": "4af7355a",
   "metadata": {
    "execution": {
     "iopub.execute_input": "2025-04-07T17:30:10.237156Z",
     "iopub.status.busy": "2025-04-07T17:30:10.236772Z",
     "iopub.status.idle": "2025-04-07T17:30:15.581876Z",
     "shell.execute_reply": "2025-04-07T17:30:15.580790Z"
    },
    "papermill": {
     "duration": 5.352195,
     "end_time": "2025-04-07T17:30:15.583728",
     "exception": false,
     "start_time": "2025-04-07T17:30:10.231533",
     "status": "completed"
    },
    "tags": []
   },
   "outputs": [
    {
     "data": {
      "text/plain": [
       "(4416648, 4596315)"
      ]
     },
     "execution_count": 8,
     "metadata": {},
     "output_type": "execute_result"
    }
   ],
   "source": [
    "model.train(story,total_examples=model.corpus_count,epochs=model.epochs)"
   ]
  },
  {
   "cell_type": "code",
   "execution_count": 9,
   "id": "4e945295",
   "metadata": {
    "execution": {
     "iopub.execute_input": "2025-04-07T17:30:15.594550Z",
     "iopub.status.busy": "2025-04-07T17:30:15.594136Z",
     "iopub.status.idle": "2025-04-07T17:30:15.621309Z",
     "shell.execute_reply": "2025-04-07T17:30:15.620247Z"
    },
    "papermill": {
     "duration": 0.034507,
     "end_time": "2025-04-07T17:30:15.622947",
     "exception": false,
     "start_time": "2025-04-07T17:30:15.588440",
     "status": "completed"
    },
    "tags": []
   },
   "outputs": [
    {
     "data": {
      "text/plain": [
       "[('unburnt', 0.9076829552650452),\n",
       " ('stormborn', 0.898034930229187),\n",
       " ('conceived', 0.8376017212867737),\n",
       " ('regent', 0.8189848065376282),\n",
       " ('targaryen', 0.818723201751709),\n",
       " ('princess', 0.8122062683105469),\n",
       " ('myrcella', 0.8117536306381226),\n",
       " ('elia', 0.811668336391449),\n",
       " ('rhaegar', 0.7956539392471313),\n",
       " ('reigns', 0.780917763710022)]"
      ]
     },
     "execution_count": 9,
     "metadata": {},
     "output_type": "execute_result"
    }
   ],
   "source": [
    "model.wv.most_similar('daenerys')"
   ]
  },
  {
   "cell_type": "code",
   "execution_count": 10,
   "id": "c99dfb54",
   "metadata": {
    "execution": {
     "iopub.execute_input": "2025-04-07T17:30:15.633554Z",
     "iopub.status.busy": "2025-04-07T17:30:15.633156Z",
     "iopub.status.idle": "2025-04-07T17:30:15.640785Z",
     "shell.execute_reply": "2025-04-07T17:30:15.639779Z"
    },
    "papermill": {
     "duration": 0.014643,
     "end_time": "2025-04-07T17:30:15.642362",
     "exception": false,
     "start_time": "2025-04-07T17:30:15.627719",
     "status": "completed"
    },
    "tags": []
   },
   "outputs": [
    {
     "data": {
      "text/plain": [
       "'rock'"
      ]
     },
     "execution_count": 10,
     "metadata": {},
     "output_type": "execute_result"
    }
   ],
   "source": [
    "model.wv.doesnt_match(['rock','rikon','arya','sansa','bran'])"
   ]
  },
  {
   "cell_type": "code",
   "execution_count": 11,
   "id": "3bc8fcfb",
   "metadata": {
    "execution": {
     "iopub.execute_input": "2025-04-07T17:30:15.653076Z",
     "iopub.status.busy": "2025-04-07T17:30:15.652704Z",
     "iopub.status.idle": "2025-04-07T17:30:15.659628Z",
     "shell.execute_reply": "2025-04-07T17:30:15.658573Z"
    },
    "papermill": {
     "duration": 0.014242,
     "end_time": "2025-04-07T17:30:15.661332",
     "exception": false,
     "start_time": "2025-04-07T17:30:15.647090",
     "status": "completed"
    },
    "tags": []
   },
   "outputs": [
    {
     "data": {
      "text/plain": [
       "array([-0.42908686,  0.26251563,  0.70588595, -0.23029222,  1.606773  ,\n",
       "       -0.29476428, -0.03454334,  1.4974813 , -1.1655604 , -0.9039658 ,\n",
       "       -0.42575276, -1.6266842 ,  0.06086723,  0.7021593 , -0.12247978,\n",
       "        0.1348821 ,  0.2315669 , -0.8921053 ,  0.30763006,  0.43149015,\n",
       "        0.27181417,  0.7052011 ,  0.49938288,  1.0868152 ,  1.1886818 ,\n",
       "        0.10573611,  0.01606349, -0.55878127,  0.33199522,  0.47910208,\n",
       "        0.00278474, -0.1511299 , -0.36621872, -0.48929647, -0.13081688,\n",
       "        1.2818792 , -0.32784605, -1.2559974 ,  0.2187517 , -0.7361991 ,\n",
       "        0.54869217, -0.50495994, -0.8254756 ,  0.8338837 , -0.11980584,\n",
       "       -0.00471715, -0.62521   , -1.3103992 , -0.550003  ,  1.1215757 ,\n",
       "        0.80573106, -0.11348355, -1.0405685 ,  0.26047155,  0.25834593,\n",
       "        0.62396586,  0.3190063 ,  1.5694138 , -0.08017687, -0.17866693,\n",
       "       -0.73687637, -0.88286984, -0.7275463 , -0.5147656 , -2.1357741 ,\n",
       "        0.65682274,  0.3831013 ,  0.8492417 , -0.25461507,  0.7358635 ,\n",
       "       -0.28115082, -0.75542265, -0.14069197, -0.06321332,  1.6987717 ,\n",
       "       -0.3064898 ,  0.61852086, -0.07439821,  0.40276346,  1.5272739 ,\n",
       "       -0.82357556,  0.07335352, -0.19698162, -0.3205253 , -1.295179  ,\n",
       "        1.3167711 , -1.4745445 ,  0.13746782,  0.92538   , -0.48024923,\n",
       "        0.35798207, -1.0678676 ,  0.15100497, -0.01025653,  0.6654461 ,\n",
       "        0.5499577 , -0.02495344,  0.16001573, -0.67489433, -0.25427526],\n",
       "      dtype=float32)"
      ]
     },
     "execution_count": 11,
     "metadata": {},
     "output_type": "execute_result"
    }
   ],
   "source": [
    "model.wv['sansa']"
   ]
  },
  {
   "cell_type": "code",
   "execution_count": 12,
   "id": "70d795b6",
   "metadata": {
    "execution": {
     "iopub.execute_input": "2025-04-07T17:30:15.672621Z",
     "iopub.status.busy": "2025-04-07T17:30:15.672234Z",
     "iopub.status.idle": "2025-04-07T17:30:15.678170Z",
     "shell.execute_reply": "2025-04-07T17:30:15.677250Z"
    },
    "papermill": {
     "duration": 0.013398,
     "end_time": "2025-04-07T17:30:15.679669",
     "exception": false,
     "start_time": "2025-04-07T17:30:15.666271",
     "status": "completed"
    },
    "tags": []
   },
   "outputs": [
    {
     "data": {
      "text/plain": [
       "0.8311701"
      ]
     },
     "execution_count": 12,
     "metadata": {},
     "output_type": "execute_result"
    }
   ],
   "source": [
    "model.wv.similarity('arya','sansa')"
   ]
  },
  {
   "cell_type": "code",
   "execution_count": 13,
   "id": "8ca17452",
   "metadata": {
    "execution": {
     "iopub.execute_input": "2025-04-07T17:30:15.691787Z",
     "iopub.status.busy": "2025-04-07T17:30:15.691406Z",
     "iopub.status.idle": "2025-04-07T17:30:15.702759Z",
     "shell.execute_reply": "2025-04-07T17:30:15.701738Z"
    },
    "papermill": {
     "duration": 0.019817,
     "end_time": "2025-04-07T17:30:15.704532",
     "exception": false,
     "start_time": "2025-04-07T17:30:15.684715",
     "status": "completed"
    },
    "tags": []
   },
   "outputs": [
    {
     "data": {
      "text/plain": [
       "array([[ 0.09410096,  0.07603609,  0.07613653, ..., -0.00512472,\n",
       "         0.03595329,  0.0627032 ],\n",
       "       [ 0.00826181,  0.08435368,  0.06695143, ..., -0.03297048,\n",
       "        -0.00655517,  0.00048589],\n",
       "       [-0.14668724,  0.07796022, -0.01281661, ..., -0.14949277,\n",
       "         0.09380779, -0.1319698 ],\n",
       "       ...,\n",
       "       [-0.1366885 ,  0.04939276, -0.00311128, ..., -0.17096962,\n",
       "         0.04647128, -0.04595435],\n",
       "       [-0.02316114,  0.1295326 , -0.04829569, ..., -0.1112972 ,\n",
       "         0.13286106,  0.08407269],\n",
       "       [-0.05035284,  0.10755239,  0.01580886, ..., -0.10339618,\n",
       "         0.05028842,  0.0224931 ]], dtype=float32)"
      ]
     },
     "execution_count": 13,
     "metadata": {},
     "output_type": "execute_result"
    }
   ],
   "source": [
    "model.wv.get_normed_vectors()"
   ]
  },
  {
   "cell_type": "code",
   "execution_count": 14,
   "id": "dc2fc61c",
   "metadata": {
    "execution": {
     "iopub.execute_input": "2025-04-07T17:30:15.715825Z",
     "iopub.status.busy": "2025-04-07T17:30:15.715438Z",
     "iopub.status.idle": "2025-04-07T17:30:15.719563Z",
     "shell.execute_reply": "2025-04-07T17:30:15.718562Z"
    },
    "papermill": {
     "duration": 0.01146,
     "end_time": "2025-04-07T17:30:15.721101",
     "exception": false,
     "start_time": "2025-04-07T17:30:15.709641",
     "status": "completed"
    },
    "tags": []
   },
   "outputs": [],
   "source": [
    "y= model.wv.index_to_key"
   ]
  },
  {
   "cell_type": "code",
   "execution_count": 15,
   "id": "62a34986",
   "metadata": {
    "execution": {
     "iopub.execute_input": "2025-04-07T17:30:15.731832Z",
     "iopub.status.busy": "2025-04-07T17:30:15.731489Z",
     "iopub.status.idle": "2025-04-07T17:30:15.902976Z",
     "shell.execute_reply": "2025-04-07T17:30:15.901980Z"
    },
    "papermill": {
     "duration": 0.178895,
     "end_time": "2025-04-07T17:30:15.904846",
     "exception": false,
     "start_time": "2025-04-07T17:30:15.725951",
     "status": "completed"
    },
    "tags": []
   },
   "outputs": [],
   "source": [
    "from sklearn.decomposition import PCA\n",
    "pca=PCA(n_components=3)\n",
    "X=pca.fit_transform(model.wv.get_normed_vectors())"
   ]
  },
  {
   "cell_type": "code",
   "execution_count": 16,
   "id": "45c97af2",
   "metadata": {
    "execution": {
     "iopub.execute_input": "2025-04-07T17:30:15.916122Z",
     "iopub.status.busy": "2025-04-07T17:30:15.915756Z",
     "iopub.status.idle": "2025-04-07T17:30:15.921332Z",
     "shell.execute_reply": "2025-04-07T17:30:15.920340Z"
    },
    "papermill": {
     "duration": 0.012971,
     "end_time": "2025-04-07T17:30:15.922829",
     "exception": false,
     "start_time": "2025-04-07T17:30:15.909858",
     "status": "completed"
    },
    "tags": []
   },
   "outputs": [
    {
     "data": {
      "text/plain": [
       "(17726, 3)"
      ]
     },
     "execution_count": 16,
     "metadata": {},
     "output_type": "execute_result"
    }
   ],
   "source": [
    "X.shape"
   ]
  },
  {
   "cell_type": "code",
   "execution_count": 17,
   "id": "5ce2fcc7",
   "metadata": {
    "execution": {
     "iopub.execute_input": "2025-04-07T17:30:15.934209Z",
     "iopub.status.busy": "2025-04-07T17:30:15.933809Z",
     "iopub.status.idle": "2025-04-07T17:30:18.880245Z",
     "shell.execute_reply": "2025-04-07T17:30:18.879177Z"
    },
    "papermill": {
     "duration": 2.953939,
     "end_time": "2025-04-07T17:30:18.881813",
     "exception": false,
     "start_time": "2025-04-07T17:30:15.927874",
     "status": "completed"
    },
    "tags": []
   },
   "outputs": [
    {
     "data": {
      "text/html": [
       "<html>\n",
       "<head><meta charset=\"utf-8\" /></head>\n",
       "<body>\n",
       "    <div>            <script src=\"https://cdnjs.cloudflare.com/ajax/libs/mathjax/2.7.5/MathJax.js?config=TeX-AMS-MML_SVG\"></script><script type=\"text/javascript\">if (window.MathJax && window.MathJax.Hub && window.MathJax.Hub.Config) {window.MathJax.Hub.Config({SVG: {font: \"STIX-Web\"}});}</script>                <script type=\"text/javascript\">window.PlotlyConfig = {MathJaxConfig: 'local'};</script>\n",
       "        <script charset=\"utf-8\" src=\"https://cdn.plot.ly/plotly-2.35.2.min.js\"></script>                <div id=\"d550ccdc-4cd3-4dcb-a35c-5bfc9bf2c510\" class=\"plotly-graph-div\" style=\"height:525px; width:100%;\"></div>            <script type=\"text/javascript\">                                    window.PLOTLYENV=window.PLOTLYENV || {};                                    if (document.getElementById(\"d550ccdc-4cd3-4dcb-a35c-5bfc9bf2c510\")) {                    Plotly.newPlot(                        \"d550ccdc-4cd3-4dcb-a35c-5bfc9bf2c510\",                        [{\"hovertemplate\":\"color=said\\u003cbr\\u003e0=%{x}\\u003cbr\\u003e1=%{y}\\u003cbr\\u003e2=%{z}\\u003cextra\\u003e\\u003c\\u002fextra\\u003e\",\"legendgroup\":\"said\",\"marker\":{\"color\":\"#636efa\",\"symbol\":\"circle\"},\"mode\":\"markers\",\"name\":\"said\",\"scene\":\"scene\",\"showlegend\":true,\"x\":[-0.42637298],\"y\":[0.013947786],\"z\":[0.25442547],\"type\":\"scatter3d\"},{\"hovertemplate\":\"color=lord\\u003cbr\\u003e0=%{x}\\u003cbr\\u003e1=%{y}\\u003cbr\\u003e2=%{z}\\u003cextra\\u003e\\u003c\\u002fextra\\u003e\",\"legendgroup\":\"lord\",\"marker\":{\"color\":\"#EF553B\",\"symbol\":\"circle\"},\"mode\":\"markers\",\"name\":\"lord\",\"scene\":\"scene\",\"showlegend\":true,\"x\":[-0.36380526],\"y\":[0.66163504],\"z\":[0.3543686],\"type\":\"scatter3d\"},{\"hovertemplate\":\"color=would\\u003cbr\\u003e0=%{x}\\u003cbr\\u003e1=%{y}\\u003cbr\\u003e2=%{z}\\u003cextra\\u003e\\u003c\\u002fextra\\u003e\",\"legendgroup\":\"would\",\"marker\":{\"color\":\"#00cc96\",\"symbol\":\"circle\"},\"mode\":\"markers\",\"name\":\"would\",\"scene\":\"scene\",\"showlegend\":true,\"x\":[-0.48296067],\"y\":[-0.040684782],\"z\":[-0.32748732],\"type\":\"scatter3d\"},{\"hovertemplate\":\"color=one\\u003cbr\\u003e0=%{x}\\u003cbr\\u003e1=%{y}\\u003cbr\\u003e2=%{z}\\u003cextra\\u003e\\u003c\\u002fextra\\u003e\",\"legendgroup\":\"one\",\"marker\":{\"color\":\"#ab63fa\",\"symbol\":\"circle\"},\"mode\":\"markers\",\"name\":\"one\",\"scene\":\"scene\",\"showlegend\":true,\"x\":[0.06797615],\"y\":[0.15825848],\"z\":[-0.036904894],\"type\":\"scatter3d\"},{\"hovertemplate\":\"color=ser\\u003cbr\\u003e0=%{x}\\u003cbr\\u003e1=%{y}\\u003cbr\\u003e2=%{z}\\u003cextra\\u003e\\u003c\\u002fextra\\u003e\",\"legendgroup\":\"ser\",\"marker\":{\"color\":\"#FFA15A\",\"symbol\":\"circle\"},\"mode\":\"markers\",\"name\":\"ser\",\"scene\":\"scene\",\"showlegend\":true,\"x\":[-0.208992],\"y\":[0.5868242],\"z\":[0.5411034],\"type\":\"scatter3d\"},{\"hovertemplate\":\"color=could\\u003cbr\\u003e0=%{x}\\u003cbr\\u003e1=%{y}\\u003cbr\\u003e2=%{z}\\u003cextra\\u003e\\u003c\\u002fextra\\u003e\",\"legendgroup\":\"could\",\"marker\":{\"color\":\"#19d3f3\",\"symbol\":\"circle\"},\"mode\":\"markers\",\"name\":\"could\",\"scene\":\"scene\",\"showlegend\":true,\"x\":[0.026048873],\"y\":[-0.10270144],\"z\":[-0.28575125],\"type\":\"scatter3d\"},{\"hovertemplate\":\"color=man\\u003cbr\\u003e0=%{x}\\u003cbr\\u003e1=%{y}\\u003cbr\\u003e2=%{z}\\u003cextra\\u003e\\u003c\\u002fextra\\u003e\",\"legendgroup\":\"man\",\"marker\":{\"color\":\"#FF6692\",\"symbol\":\"circle\"},\"mode\":\"markers\",\"name\":\"man\",\"scene\":\"scene\",\"showlegend\":true,\"x\":[-0.02942206],\"y\":[0.13263184],\"z\":[0.17423218],\"type\":\"scatter3d\"},{\"hovertemplate\":\"color=men\\u003cbr\\u003e0=%{x}\\u003cbr\\u003e1=%{y}\\u003cbr\\u003e2=%{z}\\u003cextra\\u003e\\u003c\\u002fextra\\u003e\",\"legendgroup\":\"men\",\"marker\":{\"color\":\"#B6E880\",\"symbol\":\"circle\"},\"mode\":\"markers\",\"name\":\"men\",\"scene\":\"scene\",\"showlegend\":true,\"x\":[-0.06216025],\"y\":[0.5833452],\"z\":[-0.31900904],\"type\":\"scatter3d\"},{\"hovertemplate\":\"color=back\\u003cbr\\u003e0=%{x}\\u003cbr\\u003e1=%{y}\\u003cbr\\u003e2=%{z}\\u003cextra\\u003e\\u003c\\u002fextra\\u003e\",\"legendgroup\":\"back\",\"marker\":{\"color\":\"#FF97FF\",\"symbol\":\"circle\"},\"mode\":\"markers\",\"name\":\"back\",\"scene\":\"scene\",\"showlegend\":true,\"x\":[0.28354776],\"y\":[0.08400045],\"z\":[-0.033521976],\"type\":\"scatter3d\"},{\"hovertemplate\":\"color=king\\u003cbr\\u003e0=%{x}\\u003cbr\\u003e1=%{y}\\u003cbr\\u003e2=%{z}\\u003cextra\\u003e\\u003c\\u002fextra\\u003e\",\"legendgroup\":\"king\",\"marker\":{\"color\":\"#FECB52\",\"symbol\":\"circle\"},\"mode\":\"markers\",\"name\":\"king\",\"scene\":\"scene\",\"showlegend\":true,\"x\":[-0.36541864],\"y\":[0.5947944],\"z\":[0.09370899],\"type\":\"scatter3d\"},{\"hovertemplate\":\"color=well\\u003cbr\\u003e0=%{x}\\u003cbr\\u003e1=%{y}\\u003cbr\\u003e2=%{z}\\u003cextra\\u003e\\u003c\\u002fextra\\u003e\",\"legendgroup\":\"well\",\"marker\":{\"color\":\"#636efa\",\"symbol\":\"circle\"},\"mode\":\"markers\",\"name\":\"well\",\"scene\":\"scene\",\"showlegend\":true,\"x\":[-0.417248],\"y\":[0.20806241],\"z\":[-0.24849886],\"type\":\"scatter3d\"},{\"hovertemplate\":\"color=like\\u003cbr\\u003e0=%{x}\\u003cbr\\u003e1=%{y}\\u003cbr\\u003e2=%{z}\\u003cextra\\u003e\\u003c\\u002fextra\\u003e\",\"legendgroup\":\"like\",\"marker\":{\"color\":\"#EF553B\",\"symbol\":\"circle\"},\"mode\":\"markers\",\"name\":\"like\",\"scene\":\"scene\",\"showlegend\":true,\"x\":[0.30324063],\"y\":[-0.12037545],\"z\":[-0.24004965],\"type\":\"scatter3d\"},{\"hovertemplate\":\"color=jon\\u003cbr\\u003e0=%{x}\\u003cbr\\u003e1=%{y}\\u003cbr\\u003e2=%{z}\\u003cextra\\u003e\\u003c\\u002fextra\\u003e\",\"legendgroup\":\"jon\",\"marker\":{\"color\":\"#00cc96\",\"symbol\":\"circle\"},\"mode\":\"markers\",\"name\":\"jon\",\"scene\":\"scene\",\"showlegend\":true,\"x\":[0.031558257],\"y\":[0.06319233],\"z\":[0.10050996],\"type\":\"scatter3d\"},{\"hovertemplate\":\"color=old\\u003cbr\\u003e0=%{x}\\u003cbr\\u003e1=%{y}\\u003cbr\\u003e2=%{z}\\u003cextra\\u003e\\u003c\\u002fextra\\u003e\",\"legendgroup\":\"old\",\"marker\":{\"color\":\"#ab63fa\",\"symbol\":\"circle\"},\"mode\":\"markers\",\"name\":\"old\",\"scene\":\"scene\",\"showlegend\":true,\"x\":[0.015083696],\"y\":[0.32710883],\"z\":[0.024507515],\"type\":\"scatter3d\"},{\"hovertemplate\":\"color=hand\\u003cbr\\u003e0=%{x}\\u003cbr\\u003e1=%{y}\\u003cbr\\u003e2=%{z}\\u003cextra\\u003e\\u003c\\u002fextra\\u003e\",\"legendgroup\":\"hand\",\"marker\":{\"color\":\"#FFA15A\",\"symbol\":\"circle\"},\"mode\":\"markers\",\"name\":\"hand\",\"scene\":\"scene\",\"showlegend\":true,\"x\":[0.16189963],\"y\":[0.15980028],\"z\":[0.37175068],\"type\":\"scatter3d\"},{\"hovertemplate\":\"color=even\\u003cbr\\u003e0=%{x}\\u003cbr\\u003e1=%{y}\\u003cbr\\u003e2=%{z}\\u003cextra\\u003e\\u003c\\u002fextra\\u003e\",\"legendgroup\":\"even\",\"marker\":{\"color\":\"#19d3f3\",\"symbol\":\"circle\"},\"mode\":\"markers\",\"name\":\"even\",\"scene\":\"scene\",\"showlegend\":true,\"x\":[-0.06914952],\"y\":[-0.045839213],\"z\":[-0.41866177],\"type\":\"scatter3d\"},{\"hovertemplate\":\"color=never\\u003cbr\\u003e0=%{x}\\u003cbr\\u003e1=%{y}\\u003cbr\\u003e2=%{z}\\u003cextra\\u003e\\u003c\\u002fextra\\u003e\",\"legendgroup\":\"never\",\"marker\":{\"color\":\"#FF6692\",\"symbol\":\"circle\"},\"mode\":\"markers\",\"name\":\"never\",\"scene\":\"scene\",\"showlegend\":true,\"x\":[-0.40313742],\"y\":[-0.14408448],\"z\":[-0.15632574],\"type\":\"scatter3d\"},{\"hovertemplate\":\"color=tyrion\\u003cbr\\u003e0=%{x}\\u003cbr\\u003e1=%{y}\\u003cbr\\u003e2=%{z}\\u003cextra\\u003e\\u003c\\u002fextra\\u003e\",\"legendgroup\":\"tyrion\",\"marker\":{\"color\":\"#B6E880\",\"symbol\":\"circle\"},\"mode\":\"markers\",\"name\":\"tyrion\",\"scene\":\"scene\",\"showlegend\":true,\"x\":[-0.04138567],\"y\":[-0.14244196],\"z\":[0.28669417],\"type\":\"scatter3d\"},{\"hovertemplate\":\"color=see\\u003cbr\\u003e0=%{x}\\u003cbr\\u003e1=%{y}\\u003cbr\\u003e2=%{z}\\u003cextra\\u003e\\u003c\\u002fextra\\u003e\",\"legendgroup\":\"see\",\"marker\":{\"color\":\"#FF97FF\",\"symbol\":\"circle\"},\"mode\":\"markers\",\"name\":\"see\",\"scene\":\"scene\",\"showlegend\":true,\"x\":[-0.026052335],\"y\":[0.0065686125],\"z\":[-0.19838642],\"type\":\"scatter3d\"},{\"hovertemplate\":\"color=know\\u003cbr\\u003e0=%{x}\\u003cbr\\u003e1=%{y}\\u003cbr\\u003e2=%{z}\\u003cextra\\u003e\\u003c\\u002fextra\\u003e\",\"legendgroup\":\"know\",\"marker\":{\"color\":\"#FECB52\",\"symbol\":\"circle\"},\"mode\":\"markers\",\"name\":\"know\",\"scene\":\"scene\",\"showlegend\":true,\"x\":[-0.6331187],\"y\":[-0.047103956],\"z\":[-0.21982099],\"type\":\"scatter3d\"},{\"hovertemplate\":\"color=made\\u003cbr\\u003e0=%{x}\\u003cbr\\u003e1=%{y}\\u003cbr\\u003e2=%{z}\\u003cextra\\u003e\\u003c\\u002fextra\\u003e\",\"legendgroup\":\"made\",\"marker\":{\"color\":\"#636efa\",\"symbol\":\"circle\"},\"mode\":\"markers\",\"name\":\"made\",\"scene\":\"scene\",\"showlegend\":true,\"x\":[0.15837833],\"y\":[-0.0776538],\"z\":[-0.13736932],\"type\":\"scatter3d\"},{\"hovertemplate\":\"color=father\\u003cbr\\u003e0=%{x}\\u003cbr\\u003e1=%{y}\\u003cbr\\u003e2=%{z}\\u003cextra\\u003e\\u003c\\u002fextra\\u003e\",\"legendgroup\":\"father\",\"marker\":{\"color\":\"#EF553B\",\"symbol\":\"circle\"},\"mode\":\"markers\",\"name\":\"father\",\"scene\":\"scene\",\"showlegend\":true,\"x\":[-0.6234375],\"y\":[0.34947994],\"z\":[0.14848292],\"type\":\"scatter3d\"},{\"hovertemplate\":\"color=eyes\\u003cbr\\u003e0=%{x}\\u003cbr\\u003e1=%{y}\\u003cbr\\u003e2=%{z}\\u003cextra\\u003e\\u003c\\u002fextra\\u003e\",\"legendgroup\":\"eyes\",\"marker\":{\"color\":\"#00cc96\",\"symbol\":\"circle\"},\"mode\":\"markers\",\"name\":\"eyes\",\"scene\":\"scene\",\"showlegend\":true,\"x\":[0.3228163],\"y\":[-0.12833892],\"z\":[0.18623255],\"type\":\"scatter3d\"},{\"hovertemplate\":\"color=black\\u003cbr\\u003e0=%{x}\\u003cbr\\u003e1=%{y}\\u003cbr\\u003e2=%{z}\\u003cextra\\u003e\\u003c\\u002fextra\\u003e\",\"legendgroup\":\"black\",\"marker\":{\"color\":\"#ab63fa\",\"symbol\":\"circle\"},\"mode\":\"markers\",\"name\":\"black\",\"scene\":\"scene\",\"showlegend\":true,\"x\":[0.4585369],\"y\":[0.5004733],\"z\":[0.019683331],\"type\":\"scatter3d\"},{\"hovertemplate\":\"color=told\\u003cbr\\u003e0=%{x}\\u003cbr\\u003e1=%{y}\\u003cbr\\u003e2=%{z}\\u003cextra\\u003e\\u003c\\u002fextra\\u003e\",\"legendgroup\":\"told\",\"marker\":{\"color\":\"#FFA15A\",\"symbol\":\"circle\"},\"mode\":\"markers\",\"name\":\"told\",\"scene\":\"scene\",\"showlegend\":true,\"x\":[-0.49157426],\"y\":[0.018388197],\"z\":[-0.0604401],\"type\":\"scatter3d\"},{\"hovertemplate\":\"color=thought\\u003cbr\\u003e0=%{x}\\u003cbr\\u003e1=%{y}\\u003cbr\\u003e2=%{z}\\u003cextra\\u003e\\u003c\\u002fextra\\u003e\",\"legendgroup\":\"thought\",\"marker\":{\"color\":\"#19d3f3\",\"symbol\":\"circle\"},\"mode\":\"markers\",\"name\":\"thought\",\"scene\":\"scene\",\"showlegend\":true,\"x\":[-0.21726792],\"y\":[-0.19192931],\"z\":[-0.10601905],\"type\":\"scatter3d\"},{\"hovertemplate\":\"color=lady\\u003cbr\\u003e0=%{x}\\u003cbr\\u003e1=%{y}\\u003cbr\\u003e2=%{z}\\u003cextra\\u003e\\u003c\\u002fextra\\u003e\",\"legendgroup\":\"lady\",\"marker\":{\"color\":\"#FF6692\",\"symbol\":\"circle\"},\"mode\":\"markers\",\"name\":\"lady\",\"scene\":\"scene\",\"showlegend\":true,\"x\":[-0.3977185],\"y\":[0.510779],\"z\":[0.47652766],\"type\":\"scatter3d\"},{\"hovertemplate\":\"color=time\\u003cbr\\u003e0=%{x}\\u003cbr\\u003e1=%{y}\\u003cbr\\u003e2=%{z}\\u003cextra\\u003e\\u003c\\u002fextra\\u003e\",\"legendgroup\":\"time\",\"marker\":{\"color\":\"#B6E880\",\"symbol\":\"circle\"},\"mode\":\"markers\",\"name\":\"time\",\"scene\":\"scene\",\"showlegend\":true,\"x\":[0.017691601],\"y\":[-0.008586706],\"z\":[-0.23540519],\"type\":\"scatter3d\"},{\"hovertemplate\":\"color=long\\u003cbr\\u003e0=%{x}\\u003cbr\\u003e1=%{y}\\u003cbr\\u003e2=%{z}\\u003cextra\\u003e\\u003c\\u002fextra\\u003e\",\"legendgroup\":\"long\",\"marker\":{\"color\":\"#FF97FF\",\"symbol\":\"circle\"},\"mode\":\"markers\",\"name\":\"long\",\"scene\":\"scene\",\"showlegend\":true,\"x\":[0.30626336],\"y\":[0.32529768],\"z\":[-0.25249612],\"type\":\"scatter3d\"},{\"hovertemplate\":\"color=might\\u003cbr\\u003e0=%{x}\\u003cbr\\u003e1=%{y}\\u003cbr\\u003e2=%{z}\\u003cextra\\u003e\\u003c\\u002fextra\\u003e\",\"legendgroup\":\"might\",\"marker\":{\"color\":\"#FECB52\",\"symbol\":\"circle\"},\"mode\":\"markers\",\"name\":\"might\",\"scene\":\"scene\",\"showlegend\":true,\"x\":[-0.51826346],\"y\":[-0.07606411],\"z\":[-0.2897959],\"type\":\"scatter3d\"},{\"hovertemplate\":\"color=us\\u003cbr\\u003e0=%{x}\\u003cbr\\u003e1=%{y}\\u003cbr\\u003e2=%{z}\\u003cextra\\u003e\\u003c\\u002fextra\\u003e\",\"legendgroup\":\"us\",\"marker\":{\"color\":\"#636efa\",\"symbol\":\"circle\"},\"mode\":\"markers\",\"name\":\"us\",\"scene\":\"scene\",\"showlegend\":true,\"x\":[-0.49499893],\"y\":[0.22066163],\"z\":[-0.3916924],\"type\":\"scatter3d\"},{\"hovertemplate\":\"color=come\\u003cbr\\u003e0=%{x}\\u003cbr\\u003e1=%{y}\\u003cbr\\u003e2=%{z}\\u003cextra\\u003e\\u003c\\u002fextra\\u003e\",\"legendgroup\":\"come\",\"marker\":{\"color\":\"#EF553B\",\"symbol\":\"circle\"},\"mode\":\"markers\",\"name\":\"come\",\"scene\":\"scene\",\"showlegend\":true,\"x\":[-0.34389445],\"y\":[0.13775648],\"z\":[-0.49263933],\"type\":\"scatter3d\"},{\"hovertemplate\":\"color=still\\u003cbr\\u003e0=%{x}\\u003cbr\\u003e1=%{y}\\u003cbr\\u003e2=%{z}\\u003cextra\\u003e\\u003c\\u002fextra\\u003e\",\"legendgroup\":\"still\",\"marker\":{\"color\":\"#00cc96\",\"symbol\":\"circle\"},\"mode\":\"markers\",\"name\":\"still\",\"scene\":\"scene\",\"showlegend\":true,\"x\":[0.18789262],\"y\":[0.117466114],\"z\":[-0.39794523],\"type\":\"scatter3d\"},{\"hovertemplate\":\"color=face\\u003cbr\\u003e0=%{x}\\u003cbr\\u003e1=%{y}\\u003cbr\\u003e2=%{z}\\u003cextra\\u003e\\u003c\\u002fextra\\u003e\",\"legendgroup\":\"face\",\"marker\":{\"color\":\"#ab63fa\",\"symbol\":\"circle\"},\"mode\":\"markers\",\"name\":\"face\",\"scene\":\"scene\",\"showlegend\":true,\"x\":[0.40914777],\"y\":[-0.20892747],\"z\":[0.34613642],\"type\":\"scatter3d\"},{\"hovertemplate\":\"color=head\\u003cbr\\u003e0=%{x}\\u003cbr\\u003e1=%{y}\\u003cbr\\u003e2=%{z}\\u003cextra\\u003e\\u003c\\u002fextra\\u003e\",\"legendgroup\":\"head\",\"marker\":{\"color\":\"#FFA15A\",\"symbol\":\"circle\"},\"mode\":\"markers\",\"name\":\"head\",\"scene\":\"scene\",\"showlegend\":true,\"x\":[0.4176102],\"y\":[0.013658695],\"z\":[0.4536038],\"type\":\"scatter3d\"},{\"hovertemplate\":\"color=red\\u003cbr\\u003e0=%{x}\\u003cbr\\u003e1=%{y}\\u003cbr\\u003e2=%{z}\\u003cextra\\u003e\\u003c\\u002fextra\\u003e\",\"legendgroup\":\"red\",\"marker\":{\"color\":\"#19d3f3\",\"symbol\":\"circle\"},\"mode\":\"markers\",\"name\":\"red\",\"scene\":\"scene\",\"showlegend\":true,\"x\":[0.38041332],\"y\":[0.4308819],\"z\":[0.18322216],\"type\":\"scatter3d\"},{\"hovertemplate\":\"color=way\\u003cbr\\u003e0=%{x}\\u003cbr\\u003e1=%{y}\\u003cbr\\u003e2=%{z}\\u003cextra\\u003e\\u003c\\u002fextra\\u003e\",\"legendgroup\":\"way\",\"marker\":{\"color\":\"#FF6692\",\"symbol\":\"circle\"},\"mode\":\"markers\",\"name\":\"way\",\"scene\":\"scene\",\"showlegend\":true,\"x\":[0.13786481],\"y\":[-0.011568827],\"z\":[-0.3368329],\"type\":\"scatter3d\"},{\"hovertemplate\":\"color=page\\u003cbr\\u003e0=%{x}\\u003cbr\\u003e1=%{y}\\u003cbr\\u003e2=%{z}\\u003cextra\\u003e\\u003c\\u002fextra\\u003e\",\"legendgroup\":\"page\",\"marker\":{\"color\":\"#B6E880\",\"symbol\":\"circle\"},\"mode\":\"markers\",\"name\":\"page\",\"scene\":\"scene\",\"showlegend\":true,\"x\":[-0.1749726],\"y\":[0.24255042],\"z\":[0.3281816],\"type\":\"scatter3d\"},{\"hovertemplate\":\"color=boy\\u003cbr\\u003e0=%{x}\\u003cbr\\u003e1=%{y}\\u003cbr\\u003e2=%{z}\\u003cextra\\u003e\\u003c\\u002fextra\\u003e\",\"legendgroup\":\"boy\",\"marker\":{\"color\":\"#FF97FF\",\"symbol\":\"circle\"},\"mode\":\"markers\",\"name\":\"boy\",\"scene\":\"scene\",\"showlegend\":true,\"x\":[-0.25917917],\"y\":[0.27314177],\"z\":[0.36357844],\"type\":\"scatter3d\"},{\"hovertemplate\":\"color=must\\u003cbr\\u003e0=%{x}\\u003cbr\\u003e1=%{y}\\u003cbr\\u003e2=%{z}\\u003cextra\\u003e\\u003c\\u002fextra\\u003e\",\"legendgroup\":\"must\",\"marker\":{\"color\":\"#FECB52\",\"symbol\":\"circle\"},\"mode\":\"markers\",\"name\":\"must\",\"scene\":\"scene\",\"showlegend\":true,\"x\":[-0.5666755],\"y\":[0.06646565],\"z\":[-0.3116557],\"type\":\"scatter3d\"},{\"hovertemplate\":\"color=good\\u003cbr\\u003e0=%{x}\\u003cbr\\u003e1=%{y}\\u003cbr\\u003e2=%{z}\\u003cextra\\u003e\\u003c\\u002fextra\\u003e\",\"legendgroup\":\"good\",\"marker\":{\"color\":\"#636efa\",\"symbol\":\"circle\"},\"mode\":\"markers\",\"name\":\"good\",\"scene\":\"scene\",\"showlegend\":true,\"x\":[-0.44803232],\"y\":[-0.052284464],\"z\":[-0.1812242],\"type\":\"scatter3d\"},{\"hovertemplate\":\"color=two\\u003cbr\\u003e0=%{x}\\u003cbr\\u003e1=%{y}\\u003cbr\\u003e2=%{z}\\u003cextra\\u003e\\u003c\\u002fextra\\u003e\",\"legendgroup\":\"two\",\"marker\":{\"color\":\"#EF553B\",\"symbol\":\"circle\"},\"mode\":\"markers\",\"name\":\"two\",\"scene\":\"scene\",\"showlegend\":true,\"x\":[0.22213203],\"y\":[0.63823956],\"z\":[-0.12905376],\"type\":\"scatter3d\"},{\"hovertemplate\":\"color=little\\u003cbr\\u003e0=%{x}\\u003cbr\\u003e1=%{y}\\u003cbr\\u003e2=%{z}\\u003cextra\\u003e\\u003c\\u002fextra\\u003e\",\"legendgroup\":\"little\",\"marker\":{\"color\":\"#00cc96\",\"symbol\":\"circle\"},\"mode\":\"markers\",\"name\":\"little\",\"scene\":\"scene\",\"showlegend\":true,\"x\":[-0.051368907],\"y\":[-0.10747355],\"z\":[0.04372388],\"type\":\"scatter3d\"},{\"hovertemplate\":\"color=brother\\u003cbr\\u003e0=%{x}\\u003cbr\\u003e1=%{y}\\u003cbr\\u003e2=%{z}\\u003cextra\\u003e\\u003c\\u002fextra\\u003e\",\"legendgroup\":\"brother\",\"marker\":{\"color\":\"#ab63fa\",\"symbol\":\"circle\"},\"mode\":\"markers\",\"name\":\"brother\",\"scene\":\"scene\",\"showlegend\":true,\"x\":[-0.5252736],\"y\":[0.55187285],\"z\":[0.32623553],\"type\":\"scatter3d\"},{\"hovertemplate\":\"color=took\\u003cbr\\u003e0=%{x}\\u003cbr\\u003e1=%{y}\\u003cbr\\u003e2=%{z}\\u003cextra\\u003e\\u003c\\u002fextra\\u003e\",\"legendgroup\":\"took\",\"marker\":{\"color\":\"#FFA15A\",\"symbol\":\"circle\"},\"mode\":\"markers\",\"name\":\"took\",\"scene\":\"scene\",\"showlegend\":true,\"x\":[0.09070316],\"y\":[0.25343207],\"z\":[0.114756115],\"type\":\"scatter3d\"},{\"hovertemplate\":\"color=came\\u003cbr\\u003e0=%{x}\\u003cbr\\u003e1=%{y}\\u003cbr\\u003e2=%{z}\\u003cextra\\u003e\\u003c\\u002fextra\\u003e\",\"legendgroup\":\"came\",\"marker\":{\"color\":\"#19d3f3\",\"symbol\":\"circle\"},\"mode\":\"markers\",\"name\":\"came\",\"scene\":\"scene\",\"showlegend\":true,\"x\":[0.3018041],\"y\":[0.19959901],\"z\":[-0.36739808],\"type\":\"scatter3d\"},{\"hovertemplate\":\"color=though\\u003cbr\\u003e0=%{x}\\u003cbr\\u003e1=%{y}\\u003cbr\\u003e2=%{z}\\u003cextra\\u003e\\u003c\\u002fextra\\u003e\",\"legendgroup\":\"though\",\"marker\":{\"color\":\"#FF6692\",\"symbol\":\"circle\"},\"mode\":\"markers\",\"name\":\"though\",\"scene\":\"scene\",\"showlegend\":true,\"x\":[-0.11505367],\"y\":[-0.13827878],\"z\":[-0.22852758],\"type\":\"scatter3d\"},{\"hovertemplate\":\"color=say\\u003cbr\\u003e0=%{x}\\u003cbr\\u003e1=%{y}\\u003cbr\\u003e2=%{z}\\u003cextra\\u003e\\u003c\\u002fextra\\u003e\",\"legendgroup\":\"say\",\"marker\":{\"color\":\"#B6E880\",\"symbol\":\"circle\"},\"mode\":\"markers\",\"name\":\"say\",\"scene\":\"scene\",\"showlegend\":true,\"x\":[-0.5703583],\"y\":[-0.14897154],\"z\":[-0.11112841],\"type\":\"scatter3d\"},{\"hovertemplate\":\"color=night\\u003cbr\\u003e0=%{x}\\u003cbr\\u003e1=%{y}\\u003cbr\\u003e2=%{z}\\u003cextra\\u003e\\u003c\\u002fextra\\u003e\",\"legendgroup\":\"night\",\"marker\":{\"color\":\"#FF97FF\",\"symbol\":\"circle\"},\"mode\":\"markers\",\"name\":\"night\",\"scene\":\"scene\",\"showlegend\":true,\"x\":[0.058538195],\"y\":[0.16003862],\"z\":[-0.4118483],\"type\":\"scatter3d\"},{\"hovertemplate\":\"color=three\\u003cbr\\u003e0=%{x}\\u003cbr\\u003e1=%{y}\\u003cbr\\u003e2=%{z}\\u003cextra\\u003e\\u003c\\u002fextra\\u003e\",\"legendgroup\":\"three\",\"marker\":{\"color\":\"#FECB52\",\"symbol\":\"circle\"},\"mode\":\"markers\",\"name\":\"three\",\"scene\":\"scene\",\"showlegend\":true,\"x\":[0.1215547],\"y\":[0.7614704],\"z\":[-0.16466735],\"type\":\"scatter3d\"}],                        {\"template\":{\"data\":{\"histogram2dcontour\":[{\"type\":\"histogram2dcontour\",\"colorbar\":{\"outlinewidth\":0,\"ticks\":\"\"},\"colorscale\":[[0.0,\"#0d0887\"],[0.1111111111111111,\"#46039f\"],[0.2222222222222222,\"#7201a8\"],[0.3333333333333333,\"#9c179e\"],[0.4444444444444444,\"#bd3786\"],[0.5555555555555556,\"#d8576b\"],[0.6666666666666666,\"#ed7953\"],[0.7777777777777778,\"#fb9f3a\"],[0.8888888888888888,\"#fdca26\"],[1.0,\"#f0f921\"]]}],\"choropleth\":[{\"type\":\"choropleth\",\"colorbar\":{\"outlinewidth\":0,\"ticks\":\"\"}}],\"histogram2d\":[{\"type\":\"histogram2d\",\"colorbar\":{\"outlinewidth\":0,\"ticks\":\"\"},\"colorscale\":[[0.0,\"#0d0887\"],[0.1111111111111111,\"#46039f\"],[0.2222222222222222,\"#7201a8\"],[0.3333333333333333,\"#9c179e\"],[0.4444444444444444,\"#bd3786\"],[0.5555555555555556,\"#d8576b\"],[0.6666666666666666,\"#ed7953\"],[0.7777777777777778,\"#fb9f3a\"],[0.8888888888888888,\"#fdca26\"],[1.0,\"#f0f921\"]]}],\"heatmap\":[{\"type\":\"heatmap\",\"colorbar\":{\"outlinewidth\":0,\"ticks\":\"\"},\"colorscale\":[[0.0,\"#0d0887\"],[0.1111111111111111,\"#46039f\"],[0.2222222222222222,\"#7201a8\"],[0.3333333333333333,\"#9c179e\"],[0.4444444444444444,\"#bd3786\"],[0.5555555555555556,\"#d8576b\"],[0.6666666666666666,\"#ed7953\"],[0.7777777777777778,\"#fb9f3a\"],[0.8888888888888888,\"#fdca26\"],[1.0,\"#f0f921\"]]}],\"heatmapgl\":[{\"type\":\"heatmapgl\",\"colorbar\":{\"outlinewidth\":0,\"ticks\":\"\"},\"colorscale\":[[0.0,\"#0d0887\"],[0.1111111111111111,\"#46039f\"],[0.2222222222222222,\"#7201a8\"],[0.3333333333333333,\"#9c179e\"],[0.4444444444444444,\"#bd3786\"],[0.5555555555555556,\"#d8576b\"],[0.6666666666666666,\"#ed7953\"],[0.7777777777777778,\"#fb9f3a\"],[0.8888888888888888,\"#fdca26\"],[1.0,\"#f0f921\"]]}],\"contourcarpet\":[{\"type\":\"contourcarpet\",\"colorbar\":{\"outlinewidth\":0,\"ticks\":\"\"}}],\"contour\":[{\"type\":\"contour\",\"colorbar\":{\"outlinewidth\":0,\"ticks\":\"\"},\"colorscale\":[[0.0,\"#0d0887\"],[0.1111111111111111,\"#46039f\"],[0.2222222222222222,\"#7201a8\"],[0.3333333333333333,\"#9c179e\"],[0.4444444444444444,\"#bd3786\"],[0.5555555555555556,\"#d8576b\"],[0.6666666666666666,\"#ed7953\"],[0.7777777777777778,\"#fb9f3a\"],[0.8888888888888888,\"#fdca26\"],[1.0,\"#f0f921\"]]}],\"surface\":[{\"type\":\"surface\",\"colorbar\":{\"outlinewidth\":0,\"ticks\":\"\"},\"colorscale\":[[0.0,\"#0d0887\"],[0.1111111111111111,\"#46039f\"],[0.2222222222222222,\"#7201a8\"],[0.3333333333333333,\"#9c179e\"],[0.4444444444444444,\"#bd3786\"],[0.5555555555555556,\"#d8576b\"],[0.6666666666666666,\"#ed7953\"],[0.7777777777777778,\"#fb9f3a\"],[0.8888888888888888,\"#fdca26\"],[1.0,\"#f0f921\"]]}],\"mesh3d\":[{\"type\":\"mesh3d\",\"colorbar\":{\"outlinewidth\":0,\"ticks\":\"\"}}],\"scatter\":[{\"fillpattern\":{\"fillmode\":\"overlay\",\"size\":10,\"solidity\":0.2},\"type\":\"scatter\"}],\"parcoords\":[{\"type\":\"parcoords\",\"line\":{\"colorbar\":{\"outlinewidth\":0,\"ticks\":\"\"}}}],\"scatterpolargl\":[{\"type\":\"scatterpolargl\",\"marker\":{\"colorbar\":{\"outlinewidth\":0,\"ticks\":\"\"}}}],\"bar\":[{\"error_x\":{\"color\":\"#2a3f5f\"},\"error_y\":{\"color\":\"#2a3f5f\"},\"marker\":{\"line\":{\"color\":\"#E5ECF6\",\"width\":0.5},\"pattern\":{\"fillmode\":\"overlay\",\"size\":10,\"solidity\":0.2}},\"type\":\"bar\"}],\"scattergeo\":[{\"type\":\"scattergeo\",\"marker\":{\"colorbar\":{\"outlinewidth\":0,\"ticks\":\"\"}}}],\"scatterpolar\":[{\"type\":\"scatterpolar\",\"marker\":{\"colorbar\":{\"outlinewidth\":0,\"ticks\":\"\"}}}],\"histogram\":[{\"marker\":{\"pattern\":{\"fillmode\":\"overlay\",\"size\":10,\"solidity\":0.2}},\"type\":\"histogram\"}],\"scattergl\":[{\"type\":\"scattergl\",\"marker\":{\"colorbar\":{\"outlinewidth\":0,\"ticks\":\"\"}}}],\"scatter3d\":[{\"type\":\"scatter3d\",\"line\":{\"colorbar\":{\"outlinewidth\":0,\"ticks\":\"\"}},\"marker\":{\"colorbar\":{\"outlinewidth\":0,\"ticks\":\"\"}}}],\"scattermapbox\":[{\"type\":\"scattermapbox\",\"marker\":{\"colorbar\":{\"outlinewidth\":0,\"ticks\":\"\"}}}],\"scatterternary\":[{\"type\":\"scatterternary\",\"marker\":{\"colorbar\":{\"outlinewidth\":0,\"ticks\":\"\"}}}],\"scattercarpet\":[{\"type\":\"scattercarpet\",\"marker\":{\"colorbar\":{\"outlinewidth\":0,\"ticks\":\"\"}}}],\"carpet\":[{\"aaxis\":{\"endlinecolor\":\"#2a3f5f\",\"gridcolor\":\"white\",\"linecolor\":\"white\",\"minorgridcolor\":\"white\",\"startlinecolor\":\"#2a3f5f\"},\"baxis\":{\"endlinecolor\":\"#2a3f5f\",\"gridcolor\":\"white\",\"linecolor\":\"white\",\"minorgridcolor\":\"white\",\"startlinecolor\":\"#2a3f5f\"},\"type\":\"carpet\"}],\"table\":[{\"cells\":{\"fill\":{\"color\":\"#EBF0F8\"},\"line\":{\"color\":\"white\"}},\"header\":{\"fill\":{\"color\":\"#C8D4E3\"},\"line\":{\"color\":\"white\"}},\"type\":\"table\"}],\"barpolar\":[{\"marker\":{\"line\":{\"color\":\"#E5ECF6\",\"width\":0.5},\"pattern\":{\"fillmode\":\"overlay\",\"size\":10,\"solidity\":0.2}},\"type\":\"barpolar\"}],\"pie\":[{\"automargin\":true,\"type\":\"pie\"}]},\"layout\":{\"autotypenumbers\":\"strict\",\"colorway\":[\"#636efa\",\"#EF553B\",\"#00cc96\",\"#ab63fa\",\"#FFA15A\",\"#19d3f3\",\"#FF6692\",\"#B6E880\",\"#FF97FF\",\"#FECB52\"],\"font\":{\"color\":\"#2a3f5f\"},\"hovermode\":\"closest\",\"hoverlabel\":{\"align\":\"left\"},\"paper_bgcolor\":\"white\",\"plot_bgcolor\":\"#E5ECF6\",\"polar\":{\"bgcolor\":\"#E5ECF6\",\"angularaxis\":{\"gridcolor\":\"white\",\"linecolor\":\"white\",\"ticks\":\"\"},\"radialaxis\":{\"gridcolor\":\"white\",\"linecolor\":\"white\",\"ticks\":\"\"}},\"ternary\":{\"bgcolor\":\"#E5ECF6\",\"aaxis\":{\"gridcolor\":\"white\",\"linecolor\":\"white\",\"ticks\":\"\"},\"baxis\":{\"gridcolor\":\"white\",\"linecolor\":\"white\",\"ticks\":\"\"},\"caxis\":{\"gridcolor\":\"white\",\"linecolor\":\"white\",\"ticks\":\"\"}},\"coloraxis\":{\"colorbar\":{\"outlinewidth\":0,\"ticks\":\"\"}},\"colorscale\":{\"sequential\":[[0.0,\"#0d0887\"],[0.1111111111111111,\"#46039f\"],[0.2222222222222222,\"#7201a8\"],[0.3333333333333333,\"#9c179e\"],[0.4444444444444444,\"#bd3786\"],[0.5555555555555556,\"#d8576b\"],[0.6666666666666666,\"#ed7953\"],[0.7777777777777778,\"#fb9f3a\"],[0.8888888888888888,\"#fdca26\"],[1.0,\"#f0f921\"]],\"sequentialminus\":[[0.0,\"#0d0887\"],[0.1111111111111111,\"#46039f\"],[0.2222222222222222,\"#7201a8\"],[0.3333333333333333,\"#9c179e\"],[0.4444444444444444,\"#bd3786\"],[0.5555555555555556,\"#d8576b\"],[0.6666666666666666,\"#ed7953\"],[0.7777777777777778,\"#fb9f3a\"],[0.8888888888888888,\"#fdca26\"],[1.0,\"#f0f921\"]],\"diverging\":[[0,\"#8e0152\"],[0.1,\"#c51b7d\"],[0.2,\"#de77ae\"],[0.3,\"#f1b6da\"],[0.4,\"#fde0ef\"],[0.5,\"#f7f7f7\"],[0.6,\"#e6f5d0\"],[0.7,\"#b8e186\"],[0.8,\"#7fbc41\"],[0.9,\"#4d9221\"],[1,\"#276419\"]]},\"xaxis\":{\"gridcolor\":\"white\",\"linecolor\":\"white\",\"ticks\":\"\",\"title\":{\"standoff\":15},\"zerolinecolor\":\"white\",\"automargin\":true,\"zerolinewidth\":2},\"yaxis\":{\"gridcolor\":\"white\",\"linecolor\":\"white\",\"ticks\":\"\",\"title\":{\"standoff\":15},\"zerolinecolor\":\"white\",\"automargin\":true,\"zerolinewidth\":2},\"scene\":{\"xaxis\":{\"backgroundcolor\":\"#E5ECF6\",\"gridcolor\":\"white\",\"linecolor\":\"white\",\"showbackground\":true,\"ticks\":\"\",\"zerolinecolor\":\"white\",\"gridwidth\":2},\"yaxis\":{\"backgroundcolor\":\"#E5ECF6\",\"gridcolor\":\"white\",\"linecolor\":\"white\",\"showbackground\":true,\"ticks\":\"\",\"zerolinecolor\":\"white\",\"gridwidth\":2},\"zaxis\":{\"backgroundcolor\":\"#E5ECF6\",\"gridcolor\":\"white\",\"linecolor\":\"white\",\"showbackground\":true,\"ticks\":\"\",\"zerolinecolor\":\"white\",\"gridwidth\":2}},\"shapedefaults\":{\"line\":{\"color\":\"#2a3f5f\"}},\"annotationdefaults\":{\"arrowcolor\":\"#2a3f5f\",\"arrowhead\":0,\"arrowwidth\":1},\"geo\":{\"bgcolor\":\"white\",\"landcolor\":\"#E5ECF6\",\"subunitcolor\":\"white\",\"showland\":true,\"showlakes\":true,\"lakecolor\":\"white\"},\"title\":{\"x\":0.05},\"mapbox\":{\"style\":\"light\"}}},\"scene\":{\"domain\":{\"x\":[0.0,1.0],\"y\":[0.0,1.0]},\"xaxis\":{\"title\":{\"text\":\"0\"}},\"yaxis\":{\"title\":{\"text\":\"1\"}},\"zaxis\":{\"title\":{\"text\":\"2\"}}},\"legend\":{\"title\":{\"text\":\"color\"},\"tracegroupgap\":0},\"margin\":{\"t\":60}},                        {\"responsive\": true}                    ).then(function(){\n",
       "                            \n",
       "var gd = document.getElementById('d550ccdc-4cd3-4dcb-a35c-5bfc9bf2c510');\n",
       "var x = new MutationObserver(function (mutations, observer) {{\n",
       "        var display = window.getComputedStyle(gd).display;\n",
       "        if (!display || display === 'none') {{\n",
       "            console.log([gd, 'removed!']);\n",
       "            Plotly.purge(gd);\n",
       "            observer.disconnect();\n",
       "        }}\n",
       "}});\n",
       "\n",
       "// Listen for the removal of the full notebook cells\n",
       "var notebookContainer = gd.closest('#notebook-container');\n",
       "if (notebookContainer) {{\n",
       "    x.observe(notebookContainer, {childList: true});\n",
       "}}\n",
       "\n",
       "// Listen for the clearing of the current output cell\n",
       "var outputEl = gd.closest('.output');\n",
       "if (outputEl) {{\n",
       "    x.observe(outputEl, {childList: true});\n",
       "}}\n",
       "\n",
       "                        })                };                            </script>        </div>\n",
       "</body>\n",
       "</html>"
      ]
     },
     "metadata": {},
     "output_type": "display_data"
    }
   ],
   "source": [
    "import plotly.express as px\n",
    "fig = px.scatter_3d(X[:50],x=0,y=1,z=2,color=y[:50])\n",
    "fig.show()"
   ]
  }
 ],
 "metadata": {
  "kaggle": {
   "accelerator": "none",
   "dataSources": [
    {
     "datasetId": 118601,
     "sourceId": 284856,
     "sourceType": "datasetVersion"
    }
   ],
   "dockerImageVersionId": 30918,
   "isGpuEnabled": false,
   "isInternetEnabled": true,
   "language": "python",
   "sourceType": "notebook"
  },
  "kernelspec": {
   "display_name": "Python 3",
   "language": "python",
   "name": "python3"
  },
  "language_info": {
   "codemirror_mode": {
    "name": "ipython",
    "version": 3
   },
   "file_extension": ".py",
   "mimetype": "text/x-python",
   "name": "python",
   "nbconvert_exporter": "python",
   "pygments_lexer": "ipython3",
   "version": "3.10.12"
  },
  "papermill": {
   "default_parameters": {},
   "duration": 47.61543,
   "end_time": "2025-04-07T17:30:21.452830",
   "environment_variables": {},
   "exception": null,
   "input_path": "__notebook__.ipynb",
   "output_path": "__notebook__.ipynb",
   "parameters": {},
   "start_time": "2025-04-07T17:29:33.837400",
   "version": "2.6.0"
  }
 },
 "nbformat": 4,
 "nbformat_minor": 5
}
